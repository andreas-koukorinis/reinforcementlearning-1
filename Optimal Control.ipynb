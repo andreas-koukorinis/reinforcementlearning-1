{
 "cells": [
  {
   "cell_type": "code",
   "execution_count": 48,
   "metadata": {
    "collapsed": false
   },
   "outputs": [
    {
     "name": "stdout",
     "output_type": "stream",
     "text": [
      "The autoreload extension is already loaded. To reload it, use:\n",
      "  %reload_ext autoreload\n"
     ]
    }
   ],
   "source": [
    "%load_ext autoreload\n",
    "%autoreload 2\n",
    "%matplotlib inline"
   ]
  },
  {
   "cell_type": "code",
   "execution_count": 49,
   "metadata": {
    "collapsed": true
   },
   "outputs": [],
   "source": [
    "import numpy as np\n",
    "import tensorflow as tf\n",
    "import matplotlib.pyplot as plt"
   ]
  },
  {
   "cell_type": "code",
   "execution_count": 50,
   "metadata": {
    "collapsed": false
   },
   "outputs": [],
   "source": [
    "session = tf.InteractiveSession()\n",
    "optimizer = tf.train.RMSPropOptimizer(learning_rate=0.0001)"
   ]
  },
  {
   "cell_type": "code",
   "execution_count": 51,
   "metadata": {
    "collapsed": true
   },
   "outputs": [],
   "source": [
    "def cumsum(xs):\n",
    "    values = tf.unpack(xs)\n",
    "    out = []\n",
    "    prev = tf.zeros_like(values[0])\n",
    "    for val in values:\n",
    "        s = prev + val\n",
    "        out.append(s)\n",
    "        prev = s\n",
    "    result = tf.pack(out)\n",
    "    return result"
   ]
  },
  {
   "cell_type": "code",
   "execution_count": 52,
   "metadata": {
    "collapsed": false
   },
   "outputs": [],
   "source": [
    "m = 10.0\n",
    "F = tf.Variable(tf.random_uniform([200,1],minval=-0.001, maxval=0.001))\n",
    "xdd = tf.div(F,m)\n",
    "xd = cumsum(xdd)\n",
    "x = cumsum(xd)"
   ]
  },
  {
   "cell_type": "code",
   "execution_count": 53,
   "metadata": {
    "collapsed": false
   },
   "outputs": [],
   "source": [
    "penalty = tf.reduce_sum(tf.abs(10.0-x))"
   ]
  },
  {
   "cell_type": "code",
   "execution_count": 54,
   "metadata": {
    "collapsed": false
   },
   "outputs": [],
   "source": [
    "train_op = optimizer.minimize(penalty,var_list=[F])\n",
    "session.run(tf.initialize_all_variables())"
   ]
  },
  {
   "cell_type": "code",
   "execution_count": 55,
   "metadata": {
    "collapsed": false
   },
   "outputs": [
    {
     "name": "stdout",
     "output_type": "stream",
     "text": [
      "2006.64\n",
      "1079.36\n",
      "814.4\n",
      "649.396\n",
      "582.156\n",
      "564.672\n",
      "549.009\n",
      "539.227\n",
      "527.906\n",
      "519.896\n",
      "514.588\n",
      "507.698\n",
      "502.143\n",
      "496.674\n",
      "490.28\n",
      "485.781\n",
      "481.691\n",
      "477.19\n",
      "473.519\n",
      "470.802\n",
      "465.603\n",
      "463.82\n",
      "460.541\n",
      "456.443\n",
      "454.178\n",
      "450.009\n",
      "447.163\n",
      "446.443\n",
      "443.681\n",
      "441.209\n",
      "437.402\n",
      "436.722\n",
      "434.757\n",
      "432.322\n",
      "429.54\n",
      "428.427\n",
      "424.744\n",
      "424.24\n",
      "422.396\n",
      "419.994\n",
      "418.844\n",
      "415.586\n",
      "415.9\n",
      "413.891\n",
      "412.242\n",
      "410.359\n",
      "408.492\n",
      "406.742\n",
      "404.788\n",
      "403.926\n",
      "403.8\n",
      "401.01\n",
      "401.591\n",
      "399.195\n",
      "397.725\n",
      "395.815\n",
      "395.661\n",
      "394.481\n",
      "393.096\n",
      "392.347\n",
      "392.151\n",
      "390.177\n",
      "389.022\n",
      "387.666\n",
      "387.112\n",
      "384.903\n",
      "384.501\n",
      "383.056\n",
      "382.311\n",
      "381.682\n",
      "381.237\n",
      "380.025\n",
      "379.181\n",
      "378.46\n",
      "377.409\n",
      "376.184\n",
      "375.607\n",
      "373.999\n",
      "372.943\n",
      "372.609\n",
      "371.434\n",
      "371.592\n",
      "371.003\n",
      "369.3\n",
      "369.189\n",
      "368.567\n",
      "366.621\n",
      "366.265\n",
      "365.987\n",
      "364.926\n",
      "364.273\n",
      "363.567\n",
      "363.219\n",
      "361.989\n",
      "361.469\n",
      "361.081\n",
      "360.836\n",
      "360.311\n",
      "359.138\n",
      "358.357\n"
     ]
    }
   ],
   "source": [
    "for i in range(0,10000):\n",
    "    _,error = session.run([train_op,penalty], {})\n",
    "    if (i % 100) == 0:\n",
    "        print error"
   ]
  },
  {
   "cell_type": "code",
   "execution_count": 57,
   "metadata": {
    "collapsed": false
   },
   "outputs": [
    {
     "data": {
      "text/plain": [
       "[<matplotlib.lines.Line2D at 0x12f938f50>]"
      ]
     },
     "execution_count": 57,
     "metadata": {},
     "output_type": "execute_result"
    },
    {
     "data": {
      "image/png": "[encoded data removed]",
      "text/plain": [
       "<matplotlib.figure.Figure at 0x1411ac290>"
      ]
     },
     "metadata": {},
     "output_type": "display_data"
    }
   ],
   "source": [
    "x_opt, F_opt = session.run([x,F], {})\n",
    "ax1 = plt.subplot(2, 1, 1)\n",
    "ax1.plot(x_opt)\n",
    "ax2 = plt.subplot(2, 1, 2)\n",
    "ax2.plot(F_opt)"
   ]
  },
  {
   "cell_type": "code",
   "execution_count": null,
   "metadata": {
    "collapsed": true
   },
   "outputs": [],
   "source": []
  }
 ],
 "metadata": {
  "kernelspec": {
   "display_name": "Python 2",
   "language": "python",
   "name": "python2"
  },
  "language_info": {
   "codemirror_mode": {
    "name": "ipython",
    "version": 2
   },
   "file_extension": ".py",
   "mimetype": "text/x-python",
   "name": "python",
   "nbconvert_exporter": "python",
   "pygments_lexer": "ipython2",
   "version": "2.7.10"
  }
 },
 "nbformat": 4,
 "nbformat_minor": 0
}
