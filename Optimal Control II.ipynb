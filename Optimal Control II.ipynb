{
 "cells": [
  {
   "cell_type": "code",
   "execution_count": 1,
   "metadata": {
    "collapsed": false
   },
   "outputs": [],
   "source": [
    "%load_ext autoreload\n",
    "%autoreload 2\n",
    "%matplotlib inline"
   ]
  },
  {
   "cell_type": "code",
   "execution_count": 2,
   "metadata": {
    "collapsed": true
   },
   "outputs": [],
   "source": [
    "import numpy as np\n",
    "import tensorflow as tf\n",
    "import matplotlib.pyplot as plt\n",
    "from scipy import signal\n",
    "from IPython import display\n",
    "import time as timelib\n",
    "from IPython.core.display import HTML "
   ]
  },
  {
   "cell_type": "code",
   "execution_count": 3,
   "metadata": {
    "collapsed": false
   },
   "outputs": [],
   "source": [
    "session = tf.InteractiveSession()\n",
    "optimizer = tf.train.AdamOptimizer(learning_rate=0.0005)"
   ]
  },
  {
   "cell_type": "code",
   "execution_count": 4,
   "metadata": {
    "collapsed": true
   },
   "outputs": [],
   "source": [
    "# http://nghiaho.com/?p=997\n",
    "def arctan(x):\n",
    "    return np.pi*x - x*(tf.abs(x) - 1)*(0.2447 + 0.0663*tf.abs(x));"
   ]
  },
  {
   "cell_type": "code",
   "execution_count": 5,
   "metadata": {
    "collapsed": false
   },
   "outputs": [
    {
     "data": {
      "text/html": [
       "<img src=\"http://i.imgur.com/KwwbyJy.png\" width=\"600\"/>"
      ],
      "text/plain": [
       "<IPython.core.display.Image object>"
      ]
     },
     "execution_count": 5,
     "metadata": {},
     "output_type": "execute_result"
    }
   ],
   "source": [
    "display.Image(url= \"http://i.imgur.com/KwwbyJy.png\", width=600)"
   ]
  },
  {
   "cell_type": "code",
   "execution_count": 6,
   "metadata": {
    "collapsed": false
   },
   "outputs": [
    {
     "data": {
      "text/html": [
       "<img src=\"http://i.imgur.com/OUEpBSq.png\" width=\"200\"/>"
      ],
      "text/plain": [
       "<IPython.core.display.Image object>"
      ]
     },
     "execution_count": 6,
     "metadata": {},
     "output_type": "execute_result"
    }
   ],
   "source": [
    "display.Image(url= \"http://i.imgur.com/OUEpBSq.png\", width=200)"
   ]
  },
  {
   "cell_type": "code",
   "execution_count": 7,
   "metadata": {
    "collapsed": false
   },
   "outputs": [
    {
     "data": {
      "text/html": [
       "<img src=\"http://i.imgur.com/aNLCAL6.png\" width=\"200\"/>"
      ],
      "text/plain": [
       "<IPython.core.display.Image object>"
      ]
     },
     "execution_count": 7,
     "metadata": {},
     "output_type": "execute_result"
    }
   ],
   "source": [
    "display.Image(url= \"http://i.imgur.com/aNLCAL6.png\", width=200)"
   ]
  },
  {
   "cell_type": "code",
   "execution_count": 8,
   "metadata": {
    "collapsed": false
   },
   "outputs": [
    {
     "data": {
      "text/html": [
       "<img src=\"http://i.imgur.com/Lf9pWYa.png\" width=\"200\"/>"
      ],
      "text/plain": [
       "<IPython.core.display.Image object>"
      ]
     },
     "execution_count": 8,
     "metadata": {},
     "output_type": "execute_result"
    }
   ],
   "source": [
    "display.Image(url= \"http://i.imgur.com/Lf9pWYa.png\", width=200)"
   ]
  },
  {
   "cell_type": "code",
   "execution_count": 9,
   "metadata": {
    "collapsed": true
   },
   "outputs": [],
   "source": [
    "def car(dsteers):\n",
    "    dt = 0.1\n",
    "    a = 1.0\n",
    "    b = 1.0\n",
    "    v = 5\n",
    "    \n",
    "    dsteers = tf.unpack(dsteers)\n",
    "    \n",
    "    xs = []\n",
    "    xds = []\n",
    "    ys = []\n",
    "    yaws = []\n",
    "    steers = []\n",
    "    \n",
    "    x = tf.Variable(0.0)\n",
    "    y = tf.Variable(0.0)\n",
    "    yaw = tf.Variable(0.0)\n",
    "    steer = tf.zeros_like(dsteers[0])\n",
    "    \n",
    "    for dsteer in dsteers:\n",
    "        \n",
    "        steer2 = arctan(a*tf.sin(steer)/tf.cos(steer)/b) # Homemade tan\n",
    "        v0 = v * tf.cos(steer2)\n",
    "        xd = v * tf.cos(steer2 + yaw)\n",
    "        yd = v * tf.sin(steer2 + yaw)\n",
    "        yawd = v0 * tf.sin(steer)/tf.cos(steer)/b # Homemade tan\n",
    "        \n",
    "        x = x + xd * dt\n",
    "        y = y + yd * dt\n",
    "        yaw = yaw + yawd * dt\n",
    "        steer = steer + dsteer * dt\n",
    "                \n",
    "        xs.append(x)\n",
    "        ys.append(y)\n",
    "        yaws.append(yaw)\n",
    "        steers.append(steer)\n",
    "        xds.append(xd)\n",
    "        \n",
    "    return tf.pack(xs), tf.pack(ys), tf.pack(yaws), tf.pack(steers), tf.pack(xds)"
   ]
  },
  {
   "cell_type": "code",
   "execution_count": 10,
   "metadata": {
    "collapsed": false
   },
   "outputs": [],
   "source": [
    "dsteers = tf.Variable(tf.random_uniform([200,1],minval=-0.002, maxval=0.002))\n",
    "xs, ys, yaws, steers, xds = car(dsteers)"
   ]
  },
  {
   "cell_type": "code",
   "execution_count": 11,
   "metadata": {
    "collapsed": false
   },
   "outputs": [],
   "source": [
    "y_target = 10.0\n",
    "xd_target = 5.0\n",
    "y_penalty = tf.abs(y_target-ys) # Penalty of current position compared to target\n",
    "xd_penalty = tf.abs(xd_target-xds)\n",
    "cf = tf.reduce_sum(tf.add(xd_penalty,y_penalty)) # Cost function"
   ]
  },
  {
   "cell_type": "code",
   "execution_count": 12,
   "metadata": {
    "collapsed": false
   },
   "outputs": [],
   "source": [
    "train_op = optimizer.minimize(cf,var_list=[dsteers])\n",
    "session.run(tf.initialize_all_variables())"
   ]
  },
  {
   "cell_type": "code",
   "execution_count": 13,
   "metadata": {
    "collapsed": false
   },
   "outputs": [
    {
     "data": {
      "image/png": "[encoded data removed]",
      "text/plain": [
       "<matplotlib.figure.Figure at 0x10be8a250>"
      ]
     },
     "metadata": {},
     "output_type": "display_data"
    },
    {
     "data": {
      "image/png": "[encoded data removed]",
      "text/plain": [
       "<matplotlib.figure.Figure at 0x10c3a8550>"
      ]
     },
     "metadata": {},
     "output_type": "display_data"
    }
   ],
   "source": [
    "for i in range(0,100):\n",
    "    _,error = session.run([train_op,cf], {})\n",
    "    if (i % 10) == 0:\n",
    "        print error\n",
    "        x_opt, y_opt, steer_opt = session.run([xs,ys,steers], {})\n",
    "        plt.figure(1)\n",
    "        for l in plt.gca().lines:\n",
    "            l.set_alpha(.2)\n",
    "            l.set_linewidth(1)\n",
    "        plt.plot(x_opt, y_opt,color='blue',linewidth=2.5)\n",
    "        display.display(plt.gcf())\n",
    "        plt.figure(2)\n",
    "        for l in plt.gca().lines:\n",
    "            l.set_alpha(.2)\n",
    "            l.set_linewidth(1)\n",
    "        plt.plot(steer_opt,color='blue',linewidth=2.5)\n",
    "        display.display(plt.gcf())\n",
    "        display.clear_output(wait=True)\n",
    "        timelib.sleep(0.1)"
   ]
  }
 ],
 "metadata": {
  "kernelspec": {
   "display_name": "Python 2",
   "language": "python",
   "name": "python2"
  },
  "language_info": {
   "codemirror_mode": {
    "name": "ipython",
    "version": 2
   },
   "file_extension": ".py",
   "mimetype": "text/x-python",
   "name": "python",
   "nbconvert_exporter": "python",
   "pygments_lexer": "ipython2",
   "version": "2.7.10"
  }
 },
 "nbformat": 4,
 "nbformat_minor": 0
}
