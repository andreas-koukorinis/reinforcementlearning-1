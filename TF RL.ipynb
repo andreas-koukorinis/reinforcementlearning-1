{
 "cells": [
  {
   "cell_type": "markdown",
   "metadata": {},
   "source": [
    "https://storage.googleapis.com/deepmind-data/assets/papers/DeepMindNature14236Paper.pdf"
   ]
  },
  {
   "cell_type": "markdown",
   "metadata": {},
   "source": [
    "http://www.nervanasys.com/demystifying-deep-reinforcement-learning/"
   ]
  },
  {
   "cell_type": "code",
   "execution_count": 1,
   "metadata": {
    "collapsed": false
   },
   "outputs": [],
   "source": [
    "%load_ext autoreload\n",
    "%autoreload 2\n",
    "%matplotlib inline"
   ]
  },
  {
   "cell_type": "code",
   "execution_count": 2,
   "metadata": {
    "collapsed": true
   },
   "outputs": [],
   "source": [
    "import numpy as np\n",
    "import random\n",
    "import tensorflow as tf\n",
    "from itertools import count\n",
    "from collections import deque\n",
    "from tensorflow.python.framework import ops\n",
    "import matplotlib.pyplot as plt\n",
    "import time as timelib\n",
    "from scipy import signal\n",
    "from IPython import display\n",
    "import os"
   ]
  },
  {
   "cell_type": "code",
   "execution_count": 3,
   "metadata": {
    "collapsed": false
   },
   "outputs": [],
   "source": [
    "startPath = os.getcwd()"
   ]
  },
  {
   "cell_type": "code",
   "execution_count": 39,
   "metadata": {
    "collapsed": false
   },
   "outputs": [],
   "source": [
    "# Learning parameters\n",
    "minibatch_size = 32 # As suggested in DeepMind Nature paper\n",
    "discount_rate = 0.99\n",
    "episode_max = 5000\n",
    "tepisode_max = 20\n",
    "random_action_probability= 0.9 # initial value of e in e-greedy exploration - 0.9\n",
    "exploration_period=100000\n",
    "target_reset = 10000 # Deepmind used 10000\n",
    "max_experience = 1000000\n",
    "controlbatch = 4\n",
    "learnrate = 0.0025 # Deepmind used 0.00025\n",
    "randomTC = 10000 #1000000 for nice and slow\n",
    "gradientmomentum = 0.95\n",
    "\n",
    "randommax = 20/controlbatch # multiplied by controlbatch\n",
    "emin = 0.01"
   ]
  },
  {
   "cell_type": "code",
   "execution_count": 5,
   "metadata": {
    "collapsed": true
   },
   "outputs": [],
   "source": [
    "# Plot parameters\n",
    "plot_every = 5"
   ]
  },
  {
   "cell_type": "code",
   "execution_count": 6,
   "metadata": {
    "collapsed": true
   },
   "outputs": [],
   "source": [
    "# Model parameters\n",
    "L1 = 1.0\n",
    "L2 = 1.0\n",
    "M1 = 1.0\n",
    "M2 = 1.0\n",
    "model_K = 1.0\n",
    "model_C = 1.0\n",
    "model_f = 0.2\n",
    "model_Dem = 3.0\n",
    "G = 9.81"
   ]
  },
  {
   "cell_type": "code",
   "execution_count": 38,
   "metadata": {
    "collapsed": true
   },
   "outputs": [],
   "source": [
    "# Simulation parameters\n",
    "dt = 0.01"
   ]
  },
  {
   "cell_type": "code",
   "execution_count": null,
   "metadata": {
    "collapsed": true
   },
   "outputs": [],
   "source": [
    "ops.reset_default_graph()\n",
    "session = tf.InteractiveSession()"
   ]
  },
  {
   "cell_type": "code",
   "execution_count": null,
   "metadata": {
    "collapsed": true
   },
   "outputs": [],
   "source": [
    "# TensorFlow configuration\n",
    "optimizer = tf.train.RMSPropOptimizer(learning_rate=learnrate, decay=gradientmomentum)\n",
    "#optimizer = tf.train.GradientDescentOptimizer(learning_rate=learnrate)"
   ]
  },
  {
   "cell_type": "markdown",
   "metadata": {},
   "source": [
    "We instead use an architecture in which there is a separate output unit for each possible action, and only the state representation is an input to the neural network. The outputs correspond to the predicted Q-values of the individual actions for the input state. The main advantage of this type of architecture is the ability to compute Q-values for all possible actions in a given state with only a single forward pass through the network."
   ]
  },
  {
   "cell_type": "code",
   "execution_count": 8,
   "metadata": {
    "collapsed": false
   },
   "outputs": [],
   "source": [
    "# Network\n",
    "observation_ind = 3\n",
    "observation_size = observation_ind*controlbatch\n",
    "output_size = 21\n",
    "hidden1_size = 100\n",
    "hidden2_size = 100\n",
    "observation = tf.placeholder(tf.float32, (None, observation_size), name=\"observation\")\n",
    "next_observation = tf.placeholder(tf.float32, (None, observation_size), name=\"next_observation\")\n",
    "\n",
    "with tf.name_scope(\"Live\") as scope:\n",
    "    \n",
    "    Layer1 = tf.Variable(tf.random_normal([observation_size, hidden1_size], stddev=1.0),name=\"Layer1\")\n",
    "    Layer2 = tf.Variable(tf.random_normal([hidden1_size, hidden2_size], stddev=1.0),name=\"Layer2\")\n",
    "    Layer3 = tf.Variable(tf.random_normal([hidden2_size, output_size], stddev=1.0),name=\"Layer3\")\n",
    "\n",
    "    y1 = tf.nn.relu(tf.matmul(observation, Layer1))\n",
    "    y2 = tf.nn.relu(tf.matmul(y1, Layer2))\n",
    "    action_scores = tf.matmul(y2, Layer3)\n",
    "    \n",
    "    predicted_actions = tf.argmax(action_scores, dimension=1, name=\"predicted_actions\")\n",
    "\n",
    "with tf.name_scope(\"Frozen\") as scope:\n",
    "    \n",
    "    TLayer1 = tf.Variable(Layer1.initialized_value(),name=\"TLayer1\")\n",
    "    TLayer2 = tf.Variable(Layer2.initialized_value(),name=\"TLayer2\")\n",
    "    TLayer3 = tf.Variable(Layer3.initialized_value(),name=\"TLayer3\")\n",
    "\n",
    "    Ty1 = tf.nn.relu(tf.matmul(next_observation, TLayer1))\n",
    "    Ty2 = tf.nn.relu(tf.matmul(Ty1, TLayer2))\n",
    "    Taction_scores = tf.matmul(Ty2, TLayer3)\n",
    "\n",
    "    Tpredicted_actions = tf.argmax(Taction_scores, dimension=1, name=\"predicted_actions\")"
   ]
  },
  {
   "cell_type": "code",
   "execution_count": 9,
   "metadata": {
    "collapsed": false
   },
   "outputs": [],
   "source": [
    "# Control parameters\n",
    "Cmax = 10\n",
    "C = np.linspace(-Cmax,Cmax,output_size)"
   ]
  },
  {
   "cell_type": "code",
   "execution_count": 10,
   "metadata": {
    "collapsed": true
   },
   "outputs": [],
   "source": [
    "# Training:  Placeholders\n",
    "action_mask = tf.placeholder(tf.float32, (None, output_size), name=\"action_mask\")\n",
    "rewards = tf.placeholder(tf.float32, (minibatch_size,), name=\"rewards\")\n",
    "next_observation_mask = tf.placeholder(tf.float32, (None,), name=\"next_observation_mask\")"
   ]
  },
  {
   "cell_type": "code",
   "execution_count": 11,
   "metadata": {
    "collapsed": false
   },
   "outputs": [],
   "source": [
    "# Training: Current\n",
    "masked_action_scores = tf.reduce_sum(action_scores * action_mask, reduction_indices=[1,])"
   ]
  },
  {
   "cell_type": "code",
   "execution_count": 12,
   "metadata": {
    "collapsed": false
   },
   "outputs": [],
   "source": [
    "# Training: Future\n",
    "next_action_scores = tf.to_float(tf.stop_gradient(Taction_scores)) # Break tensor chain\n",
    "target_values = tf.reduce_max(next_action_scores, reduction_indices=[1,]) # Maximum predicted future reward\n",
    "future_rewards = rewards + discount_rate * target_values"
   ]
  },
  {
   "cell_type": "code",
   "execution_count": 13,
   "metadata": {
    "collapsed": false
   },
   "outputs": [],
   "source": [
    "# Training: Optimisation\n",
    "with tf.name_scope(\"optimize\") as scope:\n",
    "    temp_diff = tf.clip_by_value((masked_action_scores - future_rewards), -1, 1) # Clipped to -1 and 1\n",
    "    #temp_diff = (masked_action_scores - future_rewards)\n",
    "    prediction_error = tf.square(temp_diff)\n",
    "    \n",
    "    # Clipped gradient optimization function\n",
    "    gradients = optimizer.compute_gradients(prediction_error)\n",
    "    for i, (grad, var) in enumerate(gradients):\n",
    "        if grad is not None:\n",
    "            gradients[i] = (tf.clip_by_norm(grad, 5), var)\n",
    "    \n",
    "    train_op = optimizer.apply_gradients(gradients)\n",
    "    \n",
    "    # Simple Optimization function:\n",
    "    #train_op = optimizer.minimize(prediction_error)\n",
    "    \n",
    "    #mpe_summary = tf.scalar_summary(\"mean prediction error\", temp_diff)"
   ]
  },
  {
   "cell_type": "code",
   "execution_count": 14,
   "metadata": {
    "collapsed": false,
    "slideshow": {
     "slide_type": "-"
    }
   },
   "outputs": [],
   "source": [
    "# Initialisation\n",
    "session.run(tf.initialize_all_variables())"
   ]
  },
  {
   "cell_type": "code",
   "execution_count": 15,
   "metadata": {
    "collapsed": false
   },
   "outputs": [],
   "source": [
    "# Writer\n",
    "merged = tf.merge_all_summaries()\n",
    "writer = tf.train.SummaryWriter(\"Users/davidbrowne/tensorflowlogs/\", session.graph_def)"
   ]
  },
  {
   "cell_type": "markdown",
   "metadata": {},
   "source": [
    "Following previous approaches to playing Atari 2600 games, we also use a simple frame-skipping technique. More precisely, the agent sees and selects actions on every kth frame instead of every frame, and its last action is repeated on skipped frames."
   ]
  },
  {
   "cell_type": "code",
   "execution_count": 16,
   "metadata": {
    "collapsed": true
   },
   "outputs": [],
   "source": [
    "time_ox = 0\n",
    "experience = deque()\n",
    "time = 0\n",
    "episodes = 0"
   ]
  },
  {
   "cell_type": "markdown",
   "metadata": {},
   "source": [
    "In practice, the behaviour distribution is often selected by an e-greedy policy that follows the greedy policy with probability 1 - e and selects a random action with probability e."
   ]
  },
  {
   "cell_type": "code",
   "execution_count": 37,
   "metadata": {
    "collapsed": false
   },
   "outputs": [
    {
     "ename": "KeyboardInterrupt",
     "evalue": "",
     "output_type": "error",
     "traceback": [
      "\u001b[0;31m---------------------------------------------------------------------------\u001b[0m",
      "\u001b[0;31mKeyboardInterrupt\u001b[0m                         Traceback (most recent call last)",
      "\u001b[0;32m<ipython-input-37-a824e0f18e89>\u001b[0m in \u001b[0;36m<module>\u001b[0;34m()\u001b[0m\n\u001b[1;32m    112\u001b[0m         \u001b[0;32mif\u001b[0m \u001b[0mlen\u001b[0m\u001b[0;34m(\u001b[0m\u001b[0mexperience\u001b[0m\u001b[0;34m)\u001b[0m \u001b[0;34m>\u001b[0m \u001b[0mminibatch_size\u001b[0m\u001b[0;34m:\u001b[0m\u001b[0;34m\u001b[0m\u001b[0m\n\u001b[1;32m    113\u001b[0m             \u001b[0msamples\u001b[0m \u001b[0;34m=\u001b[0m \u001b[0mrandom\u001b[0m\u001b[0;34m.\u001b[0m\u001b[0msample\u001b[0m\u001b[0;34m(\u001b[0m\u001b[0mrange\u001b[0m\u001b[0;34m(\u001b[0m\u001b[0mlen\u001b[0m\u001b[0;34m(\u001b[0m\u001b[0mexperience\u001b[0m\u001b[0;34m)\u001b[0m\u001b[0;34m)\u001b[0m\u001b[0;34m,\u001b[0m \u001b[0mminibatch_size\u001b[0m\u001b[0;34m)\u001b[0m\u001b[0;34m\u001b[0m\u001b[0m\n\u001b[0;32m--> 114\u001b[0;31m             \u001b[0msamples\u001b[0m \u001b[0;34m=\u001b[0m \u001b[0;34m[\u001b[0m\u001b[0mexperience\u001b[0m\u001b[0;34m[\u001b[0m\u001b[0mi\u001b[0m\u001b[0;34m]\u001b[0m \u001b[0;32mfor\u001b[0m \u001b[0mi\u001b[0m \u001b[0;32min\u001b[0m \u001b[0msamples\u001b[0m\u001b[0;34m]\u001b[0m\u001b[0;34m\u001b[0m\u001b[0m\n\u001b[0m\u001b[1;32m    115\u001b[0m \u001b[0;34m\u001b[0m\u001b[0m\n\u001b[1;32m    116\u001b[0m             \u001b[0mXobservation\u001b[0m \u001b[0;34m=\u001b[0m \u001b[0mnp\u001b[0m\u001b[0;34m.\u001b[0m\u001b[0mempty\u001b[0m\u001b[0;34m(\u001b[0m\u001b[0;34m(\u001b[0m\u001b[0mlen\u001b[0m\u001b[0;34m(\u001b[0m\u001b[0msamples\u001b[0m\u001b[0;34m)\u001b[0m\u001b[0;34m,\u001b[0m \u001b[0mobservation_size\u001b[0m\u001b[0;34m)\u001b[0m\u001b[0;34m)\u001b[0m\u001b[0;34m\u001b[0m\u001b[0m\n",
      "\u001b[0;31mKeyboardInterrupt\u001b[0m: "
     ]
    },
    {
     "data": {
      "image/png": "[encoded data removed]",
      "text/plain": [
       "<matplotlib.figure.Figure at 0x1134a54d0>"
      ]
     },
     "metadata": {},
     "output_type": "display_data"
    }
   ],
   "source": [
    "# More initialisation\n",
    "control = 0\n",
    "state = np.array([model_Dem, 0.0, model_Dem])\n",
    "last_observation = np.zeros(controlbatch*observation_ind)\n",
    "rstate = 0\n",
    "experiencelog = deque()\n",
    "new_observation = state\n",
    "new_observationC = np.array([])\n",
    "new_action = np.floor(output_size/2)+1\n",
    "tv = []\n",
    "controls = []\n",
    "error = 0\n",
    "cheat = time_ox\n",
    "randomflag = 0\n",
    "randomcount = 0\n",
    "\n",
    "fig, axes = plt.subplots()\n",
    "\n",
    "for time_oxx in count():\n",
    "    time_ox = time_oxx + 1 + cheat\n",
    "    \n",
    "    if (time_ox % target_reset)==0:\n",
    "        #TLayer1 = tf.identity(Layer1)\n",
    "        #TLayer2 = tf.identity(Layer2)\n",
    "        #TLayer3 = tf.identity(Layer3) # NB: Change this for 2 hidden layers\n",
    "        \n",
    "        # 'Deep' copy\n",
    "        TLayer1 = tf.Variable(Layer1.initialized_value())\n",
    "        TLayer2 = tf.Variable(Layer2.initialized_value())\n",
    "        TLayer3 = tf.Variable(Layer3.initialized_value())       \n",
    "        session.run(tf.initialize_variables([TLayer1, TLayer2, TLayer3]))\n",
    "        \n",
    "    time = time + dt\n",
    "    tv.append(time)\n",
    "    \n",
    "    # Saving previous step\n",
    "    last_action = new_action\n",
    "    \n",
    "    ## ----------------------------------------------------------------\n",
    "    ## INTERCHANGABLE MODEL\n",
    "    ## ----------------------------------------------------------------\n",
    "    # Model & Simulation\n",
    "    dydx = np.zeros_like(state)\n",
    "    dydx[0] = state[1]\n",
    "    dydx[1] = (-model_K*state[0] - model_C*state[1] + control) /M1\n",
    "    dydx[2] = 0\n",
    "    target = model_Dem * signal.square(2 * np.pi * model_f * time)\n",
    "    \n",
    "    state = state + dydx * dt\n",
    "    state[2] = target\n",
    "    \n",
    "    # Collecting reward\n",
    "    preverror = error\n",
    "    error = (abs(state[0]-target))\n",
    "    \n",
    "    reward = -error +  np.sign(error-preverror)\n",
    "    \n",
    "    ## ----------------------------------------------------------------\n",
    "    \n",
    "    # Collecting together data for an observation\n",
    "    new_observation = state\n",
    "    \n",
    "    experiencelog.append((last_observation, last_action, reward, new_observation, target))\n",
    "    controls.append(control)\n",
    "    \n",
    "    # e-greedy control\n",
    "    n = time_ox\n",
    "    if n <= exploration_period:\n",
    "        exploration_p =  random_action_probability\n",
    "    else:\n",
    "        #exploration_p =  1 - (n * (1 - random_action_probability)) / (exploration_period)\n",
    "        exploration_p = np.max([random_action_probability-np.float((n-exploration_period))/100000, emin])\n",
    "    \n",
    "    if randomcount > randommax:\n",
    "        randomflag = 0\n",
    "        randomcount = 0\n",
    "        \n",
    "    if (time_ox % (controlbatch))!=0:\n",
    "        new_observationC = np.append(new_observationC,new_observation)\n",
    "    else:\n",
    "        new_observationC = np.append(new_observationC,new_observation)\n",
    "        if randomflag == 0:\n",
    "            if (random.random() < exploration_p) | (time_ox<exploration_period):\n",
    "                new_action = random.randint(0, output_size - 1)\n",
    "                randomcount = 0\n",
    "                randomflag = 1\n",
    "            else:\n",
    "                new_actions = session.run( # Selecting control value\n",
    "                    predicted_actions,\n",
    "                    {observation: [new_observationC]}\n",
    "                 )\n",
    "                new_action = new_actions[0]\n",
    "        else:\n",
    "            randomcount += 1\n",
    "        \n",
    "        \n",
    "        # Making a zero output correspond to the most zero action\n",
    "        mapped_action = (new_action + output_size/2) % output_size\n",
    "        control = C[mapped_action]\n",
    "        \n",
    "        \n",
    "        # Collecting experience\n",
    "        experience.append((last_observation, last_action, reward, new_observationC)) # Switched to last action for a logical set of data\n",
    "        \n",
    "        last_observation = new_observationC # Reset last observation now that it has been added to experience\n",
    "        new_observationC = np.array([])\n",
    "            \n",
    "        if len(experience) > max_experience:\n",
    "            experience.popleft()\n",
    "\n",
    "        # Training\n",
    "        if len(experience) > minibatch_size:\n",
    "            samples = random.sample(range(len(experience)), minibatch_size)\n",
    "            samples = [experience[i] for i in samples]\n",
    "\n",
    "            Xobservation = np.empty((len(samples), observation_size))\n",
    "            Xnewobservation = np.empty((len(samples), observation_size))\n",
    "            Xaction_mask = np.zeros((len(samples), output_size))\n",
    "            Xrewards = np.zeros((len(samples),))\n",
    "\n",
    "            for i, (x_observation, x_action, x_reward, x_newobservation) in enumerate(samples):\n",
    "                Xobservation[i] = x_observation\n",
    "                Xaction_mask[i][x_action] = 1\n",
    "                Xrewards[i] = x_reward\n",
    "                Xnewobservation[i] = x_newobservation\n",
    "            \n",
    "            cost, _, = session.run([\n",
    "                    action_scores,\n",
    "                    train_op,\n",
    "                ], { \n",
    "                    observation: Xobservation,\n",
    "                    next_observation: Xnewobservation,\n",
    "                    action_mask: Xaction_mask,\n",
    "                    rewards: Xrewards,\n",
    "                })        \n",
    "\n",
    "            # Add to tensorboard\n",
    "            #writer.add_summary(summary, time_oxx)\n",
    "    \n",
    "            # Hunting down NaNs\n",
    "            temp = Layer3.eval()\n",
    "\n",
    "            if np.isnan(temp).any():\n",
    "                print np.isnan(Xobservation)\n",
    "                print np.isnan(Xnewobservation)\n",
    "                print np.isnan(Xaction_mask)\n",
    "                print np.isnan(Xrewards)\n",
    "                break\n",
    "        \n",
    "    \n",
    "    # End of optimization\n",
    "    if episodes == episode_max:\n",
    "        break\n",
    "\n",
    "    if time > tepisode_max:\n",
    "        \n",
    "        # Plotting every X episodes\n",
    "        \n",
    "        states = [row[3] for row in experiencelog]\n",
    "        tgt = [row[4] for row in experiencelog]\n",
    "        x = [row[0] for row in states]\n",
    "        v = [row[1] for row in states]\n",
    "        rewardsTotal = sum([row[2] for row in experiencelog])\n",
    "        \n",
    "        if (episodes % plot_every) == 0:\n",
    "            print rewardsTotal, exploration_p, np.mean(x)\n",
    "            plt.cla()\n",
    "            axes.plot(tv,controls)\n",
    "            axes.plot(tv, x)\n",
    "            axes.plot(tv, v)\n",
    "            axes.plot(tv,tgt)\n",
    "            display.display(plt.gcf())\n",
    "            display.clear_output(wait=True)\n",
    "            timelib.sleep(1.0)\n",
    "            \n",
    "        # Resetting for next episode\n",
    "        #state = np.array([model_Dem, 0.0, model_Dem])\n",
    "        #new_action = np.floor(output_size/2)+1\n",
    "        #new_observation = state\n",
    "        controls = []\n",
    "        time = 0\n",
    "        tv = []\n",
    "        episodes = episodes + 1\n",
    "        experiencelog = deque()"
   ]
  },
  {
   "cell_type": "code",
   "execution_count": 35,
   "metadata": {
    "collapsed": false
   },
   "outputs": [
    {
     "name": "stdout",
     "output_type": "stream",
     "text": [
      "Model saved in file: /Users/davidbrowne/TensorFlowReinforcementLearning/Models/SquareWaveDemandSpringMassDamper.ckpt\n"
     ]
    }
   ],
   "source": [
    "saver = tf.train.Saver()\n",
    "save_path = os.path.join(startPath,'Models','SquareWaveDemandSpringMassDamper.ckpt')\n",
    "saver.save(session, save_path)\n",
    "print(\"Model saved in file: %s\" % save_path)"
   ]
  },
  {
   "cell_type": "code",
   "execution_count": 36,
   "metadata": {
    "collapsed": false
   },
   "outputs": [
    {
     "name": "stdout",
     "output_type": "stream",
     "text": [
      "[array([[ -3.53714447e+02,  -8.03266357e+02,   1.22294487e+02,\n",
      "          5.91135071e+02,  -5.59202271e+02,  -3.20922913e+02,\n",
      "         -5.25566177e+01,  -3.80097351e+02,   9.40915771e+02,\n",
      "         -1.96805954e+01,  -2.25999451e+02,   2.56781860e+02,\n",
      "         -1.28241081e+01,   3.29797211e+02,   5.92354919e+02,\n",
      "          1.32190186e+02,   4.45812378e+02,  -6.07940369e+02,\n",
      "         -1.82958237e+02,  -1.04578467e+03,   2.68716164e+01],\n",
      "       [ -1.82031342e+02,  -5.65749451e+02,   6.38910446e+01,\n",
      "          6.14388428e+02,  -3.21628967e+02,  -2.84060287e+01,\n",
      "         -6.41349106e+01,   9.10333710e+01,   4.85505280e+02,\n",
      "          1.23032295e+02,  -2.97098751e+01,   1.07542496e+01,\n",
      "          7.06711655e+01,   1.81987015e+02,   5.09477600e+02,\n",
      "          6.75641098e+01,   5.70253601e+01,  -1.25011345e+02,\n",
      "         -3.49960709e+01,  -4.97288177e+02,   1.81653442e+02],\n",
      "       [ -8.64797134e+01,  -1.77154343e+02,  -5.22908508e+02,\n",
      "         -1.95718033e+02,  -1.51876202e+01,   1.68906570e+02,\n",
      "         -4.75889404e+02,   8.12369614e+01,  -3.69878845e+02,\n",
      "          6.22488220e+02,  -2.92907166e+02,  -3.72152214e+01,\n",
      "         -3.31462982e+02,   9.32136780e+02,  -7.84512177e+01,\n",
      "         -1.57324738e+02,  -2.87727386e+02,  -8.05173950e+02,\n",
      "          1.55854324e+02,  -8.47563095e+01,  -2.01438721e+02],\n",
      "       [  3.61168152e+02,  -8.10424042e+01,  -4.18871246e+02,\n",
      "         -3.31988770e+02,  -8.44550018e+01,  -3.27631409e+02,\n",
      "         -3.10418213e+02,  -4.59652710e+00,  -5.64477905e+02,\n",
      "          8.43893066e+02,  -2.48520218e+02,  -2.84075592e+02,\n",
      "         -4.68759552e+02,   5.22925598e+02,  -5.15964478e+02,\n",
      "         -6.26422195e+01,  -4.35567841e+02,  -1.09450781e+03,\n",
      "          3.43414062e+02,  -2.50525475e+01,  -3.97480804e+02],\n",
      "       [  1.92700989e+02,  -2.24787476e+02,  -4.87982117e+02,\n",
      "         -3.87479309e+02,   4.23119736e+00,   9.87304001e+01,\n",
      "         -5.21541199e+02,   7.45947266e+01,  -4.15367828e+02,\n",
      "          6.03246033e+02,  -5.67242317e+01,   3.14962997e+01,\n",
      "         -4.20157837e+02,   6.03228577e+02,  -2.81955013e+01,\n",
      "         -1.84059219e+02,  -3.15698586e+01,  -9.14296814e+02,\n",
      "         -7.68550415e+01,  -2.09316864e+02,  -5.94998245e+01],\n",
      "       [  2.52357208e+02,  -6.37296448e+01,  -2.04743835e+02,\n",
      "          4.53554230e+02,   2.17190033e+02,  -2.38285583e+02,\n",
      "         -3.22230804e+02,   5.22234314e+02,  -3.40445709e+02,\n",
      "          5.37866272e+02,  -3.45965118e+01,  -2.74062775e+02,\n",
      "          2.26557602e+02,   1.21832251e+03,  -9.94356918e+01,\n",
      "         -6.41930542e+02,   2.09375137e+02,  -1.36145344e+01,\n",
      "          7.50483521e+02,  -4.71212067e+02,   9.96552181e+00],\n",
      "       [ -1.99296616e+02,  -3.28519318e+02,  -8.46187057e+01,\n",
      "          6.54418518e+02,  -7.40893173e+01,   1.40105774e+02,\n",
      "         -1.45518250e+02,   2.89321014e+02,   1.75360657e+02,\n",
      "          2.70458466e+02,  -6.16696587e+01,  -6.89874039e+01,\n",
      "          5.87311211e+01,   4.05013763e+02,   5.08721710e+02,\n",
      "          2.44440918e+01,  -1.32551239e+02,   8.36997070e+01,\n",
      "          1.75094177e+02,  -2.41203735e+02,   2.47592926e+02],\n",
      "       [ -8.00731262e+02,  -2.23303650e+02,  -7.31250732e+02,\n",
      "          3.87402802e+02,  -4.49869385e+01,   3.83359802e+02,\n",
      "         -4.02708557e+02,   4.81795273e+01,  -3.61907410e+02,\n",
      "          6.48227966e+02,  -2.58892426e+02,   2.06056274e+02,\n",
      "         -3.34139313e+02,   1.65118689e+03,   5.33108253e+01,\n",
      "         -2.66266815e+02,  -8.47169495e+02,  -4.52458191e+02,\n",
      "          6.37040588e+02,  -8.77681122e+01,  -4.07875153e+02],\n",
      "       [  2.57640472e+02,  -2.08205368e+02,  -5.75091675e+02,\n",
      "         -4.53478638e+02,  -5.32987213e+01,   2.00470901e+02,\n",
      "         -5.28672119e+02,   1.88299637e+02,  -2.50160034e+02,\n",
      "          5.74014160e+02,  -7.61431122e+01,   1.15142624e+02,\n",
      "         -4.38062683e+02,   6.07572754e+02,   1.94054356e+01,\n",
      "         -1.75396057e+02,   9.74367447e+01,  -9.93660461e+02,\n",
      "         -1.25580147e+02,  -2.72129852e+02,  -8.84472504e+01],\n",
      "       [ -2.98447205e+02,  -1.75205231e+02,  -7.01820923e+02,\n",
      "         -2.21403198e+02,  -1.67968414e+02,   4.15744843e+02,\n",
      "         -5.11366852e+02,   3.60449249e+02,  -2.68798866e+01,\n",
      "          5.66863281e+02,  -6.98294830e+01,   3.14268036e+02,\n",
      "         -4.09096008e+02,   1.04665710e+03,   6.71938248e+01,\n",
      "         -5.64729462e+01,  -3.55514313e+02,  -8.18115295e+02,\n",
      "          2.52734695e+02,  -2.43578262e+02,  -9.51810684e+01],\n",
      "       [  9.53806686e+01,  -1.17719543e+02,  -4.43978912e+02,\n",
      "         -2.06879974e+02,   2.78880444e+01,  -7.88672028e+01,\n",
      "         -3.94698883e+02,   4.10180740e+01,  -4.56176147e+02,\n",
      "          6.96000732e+02,  -3.09193085e+02,  -1.30794373e+02,\n",
      "         -4.13934509e+02,   7.11213074e+02,  -2.74996246e+02,\n",
      "         -8.36287079e+01,  -3.62762573e+02,  -8.82792664e+02,\n",
      "          2.16816147e+02,  -8.72791672e+01,  -2.30379166e+02],\n",
      "       [  3.36467804e+02,   1.55229044e+00,  -1.75522263e+02,\n",
      "          3.74107666e+02,   2.59640198e+02,  -2.85380646e+02,\n",
      "         -2.48114838e+02,   6.20357239e+02,  -3.41183472e+02,\n",
      "          5.60449402e+02,  -2.19386692e+01,  -2.96549011e+02,\n",
      "          1.91454636e+02,   1.20568567e+03,  -1.96784821e+02,\n",
      "         -6.59751282e+02,   2.84744232e+02,  -5.81197472e+01,\n",
      "          8.39180176e+02,  -5.44570007e+02,   5.78958626e+01],\n",
      "       [ -6.59250259e+01,  -2.51818970e+02,  -5.83420837e+02,\n",
      "          1.07974548e+03,   1.81779434e+02,  -1.32215775e+02,\n",
      "         -6.22491028e+02,   4.39591400e+02,  -5.52968384e+02,\n",
      "          5.74273254e+02,   8.14461136e+01,  -5.44186325e+01,\n",
      "          2.02209488e+02,   1.83721887e+03,   2.82884918e+02,\n",
      "         -7.68280884e+02,  -3.87177368e+02,   4.50398590e+02,\n",
      "          8.37416748e+02,  -5.15863647e+02,  -9.86507492e+01],\n",
      "       [ -6.40349243e+02,  -9.23580017e+01,  -8.15927429e+02,\n",
      "          4.63958496e+02,   2.26413651e+02,   1.03193695e+02,\n",
      "         -5.15135376e+02,   1.18257355e+02,  -7.37519775e+02,\n",
      "          9.80138123e+02,  -5.11341003e+02,  -8.49364319e+01,\n",
      "         -3.79773102e+02,   1.93949878e+03,  -2.41243668e+02,\n",
      "         -4.89768951e+02,  -8.65545471e+02,  -6.79355225e+02,\n",
      "          7.47941345e+02,  -7.54690704e+01,  -6.27434082e+02],\n",
      "       [ -6.54811707e+02,  -8.41532669e+01,  -8.77715881e+02,\n",
      "          5.18366760e+02,   2.79628540e+02,   6.35853844e+01,\n",
      "         -5.59925781e+02,   1.55012878e+02,  -8.06326111e+02,\n",
      "          1.03237231e+03,  -5.37469238e+02,  -1.05470619e+02,\n",
      "         -3.50977600e+02,   2.04694604e+03,  -2.68836060e+02,\n",
      "         -5.40683594e+02,  -9.03425598e+02,  -6.93025452e+02,\n",
      "          8.11541809e+02,  -7.67698669e+01,  -6.56326599e+02],\n",
      "       [ -5.27099854e+02,  -1.28149567e+02,  -5.54929993e+02,\n",
      "          2.41791626e+02,   2.62186623e+00,   2.37991608e+02,\n",
      "         -3.88825745e+02,   1.75072021e+01,  -5.29144043e+02,\n",
      "          7.72502686e+02,  -4.11283295e+02,  -3.55300179e+01,\n",
      "         -3.85844635e+02,   1.53046741e+03,  -1.19630997e+02,\n",
      "         -3.04112793e+02,  -6.54435303e+02,  -6.53274597e+02,\n",
      "          5.35092834e+02,  -8.77350159e+01,  -4.74889771e+02],\n",
      "       [ -1.32964203e+02,  -1.54543625e+02,  -4.74737213e+02,\n",
      "         -2.42673512e+01,  -1.78058796e+01,   1.17707649e+02,\n",
      "         -3.88736328e+02,  -1.48846006e+01,  -4.87597839e+02,\n",
      "          6.57638245e+02,  -3.65883575e+02,  -1.02083961e+02,\n",
      "         -3.50649597e+02,   1.03976599e+03,  -1.96672745e+02,\n",
      "         -1.87674881e+02,  -4.34328339e+02,  -7.80378357e+02,\n",
      "          3.44535828e+02,  -2.17893524e+01,  -2.91929932e+02],\n",
      "       [ -3.47167114e+02,  -4.84380722e+01,  -7.28046570e+02,\n",
      "          2.96535461e+02,   1.87521545e+02,  -1.66105270e+01,\n",
      "         -5.18781250e+02,   1.12236496e+02,  -7.05325623e+02,\n",
      "          9.15239075e+02,  -5.87019775e+02,  -2.55396988e+02,\n",
      "         -3.70335876e+02,   1.78462781e+03,  -3.30158478e+02,\n",
      "         -4.57540070e+02,  -7.99976685e+02,  -8.71840576e+02,\n",
      "          8.03852844e+02,  -8.63748932e+01,  -7.01203430e+02],\n",
      "       [  9.21563416e+01,  -4.22456551e+01,  -1.41737000e+02,\n",
      "          2.54926056e+02,  -1.61763885e+02,  -3.52966187e+02,\n",
      "         -7.86201935e+01,   4.25831177e+02,   4.46384659e+01,\n",
      "          4.51782867e+02,   8.77585831e+01,  -4.77222176e+01,\n",
      "         -2.30242126e+02,   6.43664429e+02,   2.05612442e+02,\n",
      "          3.72475281e+01,   3.39233765e+02,  -1.51321716e+02,\n",
      "          4.92236450e+02,  -5.56931335e+02,   5.27289886e+01],\n",
      "       [ -2.82837738e+02,  -1.21701245e+03,   3.31849060e+02,\n",
      "          5.99126709e+02,  -7.96285156e+02,  -6.68421387e+02,\n",
      "         -1.72579834e+02,  -4.91137512e+02,   1.78081970e+03,\n",
      "         -1.65904572e+02,  -4.96813263e+02,   2.11225586e+02,\n",
      "         -1.87679993e+02,   3.03237610e+02,   7.67726257e+02,\n",
      "         -3.92735291e+01,   5.49779114e+02,  -1.45674768e+03,\n",
      "         -5.42413147e+02,  -1.84532031e+03,  -1.34592178e+02],\n",
      "       [ -8.15853729e+01,  -2.22601364e+02,  -1.17040733e+02,\n",
      "          5.44784424e+02,  -8.80877686e+01,  -6.59678192e+01,\n",
      "         -2.46952957e+02,   3.14053375e+02,   2.20249901e+01,\n",
      "          2.85765747e+02,  -5.44362068e+01,  -1.24503349e+02,\n",
      "          7.84679718e+01,   6.08153381e+02,   4.23233704e+02,\n",
      "         -1.26734108e+02,   1.12471115e+02,   3.43822517e+01,\n",
      "          2.68670990e+02,  -2.68434784e+02,   1.38905212e+02],\n",
      "       [ -2.33214920e+02,  -5.80326050e+02,   1.26216469e+01,\n",
      "          6.00604736e+02,  -3.68718811e+02,  -4.79176559e+01,\n",
      "         -1.03432655e+02,   5.34235764e+01,   4.28377686e+02,\n",
      "          1.51169586e+02,  -8.02516556e+00,   6.39909744e+01,\n",
      "          4.54828415e+01,   2.50487244e+02,   5.25109558e+02,\n",
      "          5.62707672e+01,   1.63708649e+02,  -1.41229340e+02,\n",
      "         -1.53670044e+01,  -4.80464478e+02,   1.71860870e+02],\n",
      "       [ -6.57430542e+02,  -5.53131676e+01,  -1.06986633e+03,\n",
      "          6.42797852e+02,   4.58960144e+02,  -2.34313507e+01,\n",
      "         -7.24181274e+02,   2.78332184e+02,  -9.77328491e+02,\n",
      "          1.16571008e+03,  -6.21991089e+02,  -1.98492493e+02,\n",
      "         -2.90951385e+02,   2.43444214e+03,  -3.10095520e+02,\n",
      "         -7.00643616e+02,  -1.05081494e+03,  -8.22151367e+02,\n",
      "          1.05051074e+03,  -1.37109009e+02,  -7.82567993e+02],\n",
      "       [  7.08428879e+01,  -2.18660095e+02,  -7.70516846e+02,\n",
      "          1.22953882e+03,   4.81018646e+02,  -3.13307068e+02,\n",
      "         -7.42645935e+02,   6.12856262e+02,  -8.40819336e+02,\n",
      "          6.43165710e+02,   9.51641693e+01,  -1.42577362e+02,\n",
      "          4.13549377e+02,   2.32181641e+03,   2.52464951e+02,\n",
      "         -1.12788208e+03,  -3.40517761e+02,   4.18953217e+02,\n",
      "          1.08362793e+03,  -6.06316101e+02,  -1.52264099e+02],\n",
      "       [  3.94150879e+02,  -3.72782471e+02,  -6.59456787e+01,\n",
      "          4.01238708e+01,  -9.44445801e+01,  -6.34000183e+02,\n",
      "         -8.32575989e+02,  -8.25461426e+02,  -9.93886337e+01,\n",
      "          5.02587524e+02,   4.35202637e+02,   7.06348755e+02,\n",
      "         -6.09510010e+02,   3.85679077e+02,   5.38882996e+02,\n",
      "         -1.94644531e+02,   4.56885803e+02,  -1.46375659e+03,\n",
      "         -8.46882690e+02,  -1.03134937e+03,   2.33182617e+02],\n",
      "       [ -2.46059006e+02,  -1.43309296e+02,  -4.93923248e+02,\n",
      "          2.50496082e+01,  -3.55878830e+01,   2.09425171e+02,\n",
      "         -4.26255615e+02,   2.23682175e+01,  -4.56114868e+02,\n",
      "          6.46030762e+02,  -3.71441895e+02,  -5.52538528e+01,\n",
      "         -3.29142975e+02,   1.14643921e+03,  -1.34007553e+02,\n",
      "         -2.01497849e+02,  -4.43614227e+02,  -7.06121582e+02,\n",
      "          3.43158813e+02,  -4.22396698e+01,  -2.91494690e+02],\n",
      "       [ -5.47555420e+02,  -2.31845978e+02,  -6.22406372e+02,\n",
      "          1.42002228e+02,  -8.48798447e+01,   2.94559082e+02,\n",
      "         -3.80119354e+02,   3.05164642e+01,  -3.36022705e+02,\n",
      "          6.25413696e+02,  -3.07810974e+02,   1.28746735e+02,\n",
      "         -3.81383636e+02,   1.36708423e+03,   3.68912659e+01,\n",
      "         -2.37369156e+02,  -6.37311340e+02,  -5.97185486e+02,\n",
      "          4.79189545e+02,  -8.00158157e+01,  -4.09354279e+02],\n",
      "       [  4.11705017e+02,  -1.58177368e+02,  -3.52998901e+02,\n",
      "         -4.15513245e+02,  -2.84220352e+01,  -1.70891895e+01,\n",
      "         -5.29710144e+02,  -6.40713348e+01,  -2.79133209e+02,\n",
      "          4.47682831e+02,   6.75976028e+01,   1.61087952e+02,\n",
      "         -4.34876099e+02,   4.33322479e+02,   9.79791946e+01,\n",
      "         -1.68983704e+02,   2.23852814e+02,  -1.02767334e+03,\n",
      "         -3.24640167e+02,  -4.00719299e+02,   5.60942917e+01],\n",
      "       [ -3.29474731e+02,  -2.59725372e+02,  -1.87951050e+02,\n",
      "          8.32193726e+02,   2.05629044e+01,   2.51567276e+02,\n",
      "         -3.66667816e+02,   3.55367371e+02,  -1.34120300e+02,\n",
      "          4.13322754e+02,  -9.87710495e+01,  -4.96985865e+00,\n",
      "          8.91354599e+01,   9.02178589e+02,   4.05299896e+02,\n",
      "         -1.28460846e+02,  -3.39442474e+02,   3.20362000e+02,\n",
      "          4.07726776e+02,  -2.35266708e+02,   2.00782501e+02],\n",
      "       [ -2.09288528e+02,  -3.12758911e+02,   1.53495407e+02,\n",
      "          6.60402222e+02,  -1.46679504e+02,   1.94107605e+02,\n",
      "         -1.37214264e+02,   2.30210861e+02,   3.42721863e+02,\n",
      "          2.63667114e+02,  -2.20343533e+01,   2.64546680e+01,\n",
      "          9.21639633e+00,   2.43703308e+02,   4.55445953e+02,\n",
      "          2.23583939e+02,  -3.32958496e+02,   6.25657425e+01,\n",
      "          1.98089890e+02,  -3.86023193e+02,   4.16903229e+02],\n",
      "       [ -2.24830795e+02,  -5.37217041e+02,   2.64141521e+01,\n",
      "          5.89104431e+02,  -3.34790039e+02,  -3.12176437e+01,\n",
      "         -1.05964554e+02,   1.07437607e+02,   3.95936646e+02,\n",
      "          1.62367523e+02,  -9.87808228e+00,   1.32505379e+01,\n",
      "          5.87812119e+01,   2.40991989e+02,   5.55957458e+02,\n",
      "          6.71214752e+01,   1.02842957e+02,  -7.28883209e+01,\n",
      "          3.53211975e+00,  -4.21070465e+02,   1.84878723e+02],\n",
      "       [  2.50660858e+02,  -6.46396408e+01,  -2.03170059e+02,\n",
      "          4.51919525e+02,   2.14146545e+02,  -2.37946960e+02,\n",
      "         -3.20717133e+02,   5.19583374e+02,  -3.36894196e+02,\n",
      "          5.37463745e+02,  -3.40761642e+01,  -2.70915131e+02,\n",
      "          2.23728333e+02,   1.21406360e+03,  -9.75390167e+01,\n",
      "         -6.38343567e+02,   2.07555756e+02,  -1.41058540e+01,\n",
      "          7.45688782e+02,  -4.70043884e+02,   9.30836391e+00]], dtype=float32)]\n"
     ]
    },
    {
     "data": {
      "text/plain": [
       "array([[ 2.06471729,  1.04396737,  1.47876537, ...,  1.42134762,\n",
       "         0.32312414,  0.80996466],\n",
       "       [ 2.20371079, -0.57335418,  1.64383781, ..., -1.88604999,\n",
       "         0.37968019, -1.14255643],\n",
       "       [-0.98379105, -2.89269328, -0.4072929 , ..., -0.87091047,\n",
       "         0.32295251, -0.31334525],\n",
       "       ..., \n",
       "       [ 0.80531102,  1.13045406, -0.2016366 , ...,  1.3619957 ,\n",
       "         2.82647896,  1.61315632],\n",
       "       [ 0.11871616,  0.06555939, -1.02874529, ...,  1.04716396,\n",
       "         0.26738289, -0.24079752],\n",
       "       [-1.34279239,  1.36712372, -0.90701181, ...,  1.98195708,\n",
       "        -0.39374581, -0.15122138]], dtype=float32)"
      ]
     },
     "execution_count": 36,
     "metadata": {},
     "output_type": "execute_result"
    }
   ],
   "source": [
    "temp = session.run([action_scores], { \n",
    "                    observation: Xobservation,\n",
    "                })\n",
    "\n",
    "print temp\n",
    "\n",
    "Layer2.eval()"
   ]
  },
  {
   "cell_type": "code",
   "execution_count": 34,
   "metadata": {
    "collapsed": false
   },
   "outputs": [
    {
     "data": {
      "text/plain": [
       "1054"
      ]
     },
     "execution_count": 34,
     "metadata": {},
     "output_type": "execute_result"
    }
   ],
   "source": [
    "episodes"
   ]
  },
  {
   "cell_type": "code",
   "execution_count": null,
   "metadata": {
    "collapsed": true
   },
   "outputs": [],
   "source": []
  }
 ],
 "metadata": {
  "celltoolbar": "Raw Cell Format",
  "kernelspec": {
   "display_name": "Python 2",
   "language": "python",
   "name": "python2"
  },
  "language_info": {
   "codemirror_mode": {
    "name": "ipython",
    "version": 2
   },
   "file_extension": ".py",
   "mimetype": "text/x-python",
   "name": "python",
   "nbconvert_exporter": "python",
   "pygments_lexer": "ipython2",
   "version": "2.7.10"
  }
 },
 "nbformat": 4,
 "nbformat_minor": 0
}
