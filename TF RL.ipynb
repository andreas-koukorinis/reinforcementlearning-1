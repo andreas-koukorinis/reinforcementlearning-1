{
 "cells": [
  {
   "cell_type": "markdown",
   "metadata": {
    "collapsed": true
   },
   "source": [
    "https://storage.googleapis.com/deepmind-data/assets/papers/DeepMindNature14236Paper.pdf"
   ]
  },
  {
   "cell_type": "markdown",
   "metadata": {},
   "source": [
    "http://www.nervanasys.com/demystifying-deep-reinforcement-learning/"
   ]
  },
  {
   "cell_type": "code",
   "execution_count": 1,
   "metadata": {
    "collapsed": false
   },
   "outputs": [],
   "source": [
    "%load_ext autoreload\n",
    "%autoreload 2\n",
    "%matplotlib inline"
   ]
  },
  {
   "cell_type": "code",
   "execution_count": 2,
   "metadata": {
    "collapsed": true
   },
   "outputs": [],
   "source": [
    "import numpy as np\n",
    "import random\n",
    "import tensorflow as tf\n",
    "from itertools import count\n",
    "from collections import deque\n",
    "from tensorflow.python.framework import ops\n",
    "import matplotlib.pyplot as plt\n",
    "import time as timelib\n",
    "from scipy import signal\n",
    "from IPython import display\n",
    "import os\n",
    "import pickle"
   ]
  },
  {
   "cell_type": "code",
   "execution_count": 3,
   "metadata": {
    "collapsed": true
   },
   "outputs": [],
   "source": [
    "startPath = os.getcwd()"
   ]
  },
  {
   "cell_type": "code",
   "execution_count": 4,
   "metadata": {
    "collapsed": true
   },
   "outputs": [],
   "source": [
    "# Learning parameters\n",
    "minibatch_size = 32 # 32 suggested in DeepMind Nature paper\n",
    "episode_max = 7500\n",
    "tepisode_max = 20\n",
    "random_action_probability = 1 # initial value of e in e-greedy exploration - 0.9\n",
    "target_reset = 1000 # Deepmind used 10000\n",
    "max_experience = 200000\n",
    "exploration_period = max_experience #max_experience/40\n",
    "controlbatch = 5\n",
    "learnrate = 0.00025 # Deepmind used 0.00025\n",
    "randomTC = 10000 # 1000000 for nice and slow\n",
    "gradientmomentum = 0.95\n",
    "randommax = 1 #20/controlbatch # multiplied by controlbatch\n",
    "emin = 0.1 # 5% of the time\n",
    "\n",
    "# Simulation parameters\n",
    "dt = 0.01"
   ]
  },
  {
   "cell_type": "code",
   "execution_count": 5,
   "metadata": {
    "collapsed": true
   },
   "outputs": [],
   "source": [
    "# Plot parameters\n",
    "plot_every = 1\n",
    "save_every = 50"
   ]
  },
  {
   "cell_type": "code",
   "execution_count": 6,
   "metadata": {
    "collapsed": true
   },
   "outputs": [],
   "source": [
    "# Model parameters\n",
    "L1 = 1.0\n",
    "L2 = 1.0\n",
    "M1 = 1.0\n",
    "M2 = 1.0\n",
    "model_K = 1\n",
    "model_C = 1\n",
    "model_f = 0.05\n",
    "model_Dem = 3.0\n",
    "G = 9.81"
   ]
  },
  {
   "cell_type": "code",
   "execution_count": 7,
   "metadata": {
    "collapsed": false
   },
   "outputs": [],
   "source": [
    "ops.reset_default_graph()\n",
    "session = tf.InteractiveSession()"
   ]
  },
  {
   "cell_type": "code",
   "execution_count": 8,
   "metadata": {
    "collapsed": false
   },
   "outputs": [],
   "source": [
    "# TensorFlow configuration\n",
    "optimizer = tf.train.RMSPropOptimizer(learning_rate=learnrate)"
   ]
  },
  {
   "cell_type": "markdown",
   "metadata": {},
   "source": [
    "We instead use an architecture in which there is a separate output unit for each possible action, and only the state representation is an input to the neural network. The outputs correspond to the predicted Q-values of the individual actions for the input state. The main advantage of this type of architecture is the ability to compute Q-values for all possible actions in a given state with only a single forward pass through the network."
   ]
  },
  {
   "cell_type": "code",
   "execution_count": 9,
   "metadata": {
    "collapsed": false
   },
   "outputs": [],
   "source": [
    "# Network\n",
    "observation_ind = 3\n",
    "observation_size = observation_ind*controlbatch\n",
    "output_size = 21\n",
    "hidden1_size = 250\n",
    "hidden2_size = 250\n",
    "observation = tf.placeholder(tf.float32, (None, observation_size), name=\"observation\")\n",
    "next_observation = tf.placeholder(tf.float32, (None, observation_size), name=\"next_observation\")\n",
    "\n",
    "with tf.name_scope(\"Live\") as scope:\n",
    "    \n",
    "    r1 = 4.0*np.sqrt(6.0/(observation_size+hidden1_size))\n",
    "    Layer1 = tf.Variable(tf.random_uniform([observation_size, hidden1_size], minval=-r1, maxval=r1,),name=\"Layer1\")\n",
    "    r2 = 4.0*np.sqrt(6.0/(hidden2_size+hidden1_size))\n",
    "    Layer2 = tf.Variable(tf.random_uniform([hidden1_size, hidden2_size], minval=-r2, maxval=r2,),name=\"Layer2\")\n",
    "    r3 = 4.0*np.sqrt(6.0/(output_size+hidden2_size))\n",
    "    Layer3 = tf.Variable(tf.random_uniform([hidden2_size, output_size], minval=-r3, maxval=r3,),name=\"Layer3\")\n",
    "    \n",
    "    b1 = tf.Variable(tf.zeros([1, hidden1_size]),name=\"Offset1\")\n",
    "    b2 = tf.Variable(tf.zeros([1, hidden2_size]),name=\"Offset2\")\n",
    "    \n",
    "    y1 = tf.nn.tanh(tf.matmul(observation, Layer1))\n",
    "    y2 = tf.nn.tanh(tf.matmul(y1, Layer2))\n",
    "    #action_scores = tf.matmul(y2, Layer3)\n",
    "    action_scores = tf.matmul(y1, Layer3)\n",
    "    \n",
    "    action_scores_max = tf.reduce_max(action_scores)\n",
    "    action_scores_max_summary = tf.scalar_summary(\"action_scores max\", action_scores_max)\n",
    "    \n",
    "    predicted_actions = tf.argmax(action_scores, dimension=1, name=\"predicted_actions\")\n",
    "\n",
    "with tf.name_scope(\"Frozen\") as scope:\n",
    "    \n",
    "    TLayer1 = tf.Variable(Layer1.initialized_value(),name=\"TLayer1\")\n",
    "    TLayer2 = tf.Variable(Layer2.initialized_value(),name=\"TLayer2\")\n",
    "    TLayer3 = tf.Variable(Layer3.initialized_value(),name=\"TLayer3\")\n",
    "\n",
    "    Ty1 = tf.nn.tanh(tf.matmul(next_observation, TLayer1))\n",
    "    Ty2 = tf.nn.tanh(tf.matmul(Ty1, TLayer2))\n",
    "    #Taction_scores = tf.matmul(Ty2, TLayer3)\n",
    "    Taction_scores = tf.matmul(Ty1, TLayer3)\n",
    "\n",
    "    Tpredicted_actions = tf.argmax(Taction_scores, dimension=1, name=\"predicted_actions\")"
   ]
  },
  {
   "cell_type": "code",
   "execution_count": 10,
   "metadata": {
    "collapsed": true
   },
   "outputs": [],
   "source": [
    "# Control parameters\n",
    "Cmax = 3\n",
    "C = np.linspace(-Cmax,Cmax,output_size)"
   ]
  },
  {
   "cell_type": "code",
   "execution_count": 11,
   "metadata": {
    "collapsed": true
   },
   "outputs": [],
   "source": [
    "# Training:  Placeholders\n",
    "action_mask = tf.placeholder(tf.float32, (None, output_size), name=\"action_mask\")\n",
    "rewards = tf.placeholder(tf.float32, (minibatch_size,), name=\"rewards\")\n",
    "next_observation_mask = tf.placeholder(tf.float32, (None,), name=\"next_observation_mask\")\n",
    "discount_rate = tf.to_float(tf.Variable(0.99))"
   ]
  },
  {
   "cell_type": "code",
   "execution_count": 12,
   "metadata": {
    "collapsed": false
   },
   "outputs": [],
   "source": [
    "# Training: Current\n",
    "masked_action_scores = tf.reduce_sum(action_scores * action_mask, reduction_indices=[1,])\n",
    "\n",
    "#split0, split1, split2 = tf.split(1, output_size, action_scores)\n",
    "\n",
    "#tf.gather(output_size,[[0][0]])"
   ]
  },
  {
   "cell_type": "code",
   "execution_count": 13,
   "metadata": {
    "collapsed": false
   },
   "outputs": [],
   "source": [
    "# Training: Future\n",
    "next_action_scores = tf.to_float(tf.stop_gradient(Taction_scores)) # Break tensor chain\n",
    "target_values = tf.reduce_max(next_action_scores, reduction_indices=[1,]) # Maximum predicted future reward\n",
    "future_rewards = rewards + tf.stop_gradient(discount_rate) * target_values"
   ]
  },
  {
   "cell_type": "code",
   "execution_count": 14,
   "metadata": {
    "collapsed": true
   },
   "outputs": [],
   "source": [
    "# Target Functions\n",
    "copy_L1 = TLayer1.assign(Layer1)\n",
    "copy_L2 = TLayer2.assign(Layer2)\n",
    "copy_L3 = TLayer3.assign(Layer3)"
   ]
  },
  {
   "cell_type": "code",
   "execution_count": 15,
   "metadata": {
    "collapsed": false
   },
   "outputs": [],
   "source": [
    "# Training: Optimisation\n",
    "with tf.name_scope(\"optimize\") as scope:\n",
    "    temp_diff = tf.clip_by_value((masked_action_scores - future_rewards), -1, 1) # Clipped to -1 and 1\n",
    "    #temp_diff = (masked_action_scores - future_rewards)\n",
    "    prediction_error = tf.square(temp_diff)\n",
    "    \n",
    "    mean_prediction_error = tf.reduce_mean(prediction_error)\n",
    "    mpe = tf.scalar_summary(\"mean_prediction_error\", mean_prediction_error)\n",
    "    \n",
    "    train_op = optimizer.minimize(prediction_error)\n",
    "    \n",
    "    # Clipped gradient optimization function\n",
    "    gradients = optimizer.compute_gradients(prediction_error)\n",
    "    #for i, (grad, var) in enumerate(gradients):\n",
    "    #    if grad is not None:\n",
    "    #        gradients[i] = (grad, var)\n",
    "            #gradients[i] = (tf.clip_by_norm(grad, 5), var)\n",
    "    \n",
    "    #train_op = optimizer.apply_gradients(gradients)"
   ]
  },
  {
   "cell_type": "code",
   "execution_count": 16,
   "metadata": {
    "collapsed": true
   },
   "outputs": [],
   "source": [
    "# Writer\n",
    "merged = tf.merge_all_summaries()\n",
    "writer = tf.train.SummaryWriter(\"/Users/davidbrowne/tensorflowlogs/\", session.graph_def)"
   ]
  },
  {
   "cell_type": "code",
   "execution_count": 17,
   "metadata": {
    "collapsed": false
   },
   "outputs": [],
   "source": [
    "# Initialisation\n",
    "session.run(tf.initialize_all_variables())"
   ]
  },
  {
   "cell_type": "markdown",
   "metadata": {},
   "source": [
    "Following previous approaches to playing Atari 2600 games, we also use a simple frame-skipping technique. More precisely, the agent sees and selects actions on every kth frame instead of every frame, and its last action is repeated on skipped frames."
   ]
  },
  {
   "cell_type": "code",
   "execution_count": 18,
   "metadata": {
    "collapsed": true
   },
   "outputs": [],
   "source": [
    "time_ox = 0\n",
    "experience = deque()\n",
    "time = 0\n",
    "episodes = 0"
   ]
  },
  {
   "cell_type": "markdown",
   "metadata": {},
   "source": [
    "In practice, the behaviour distribution is often selected by an e-greedy policy that follows the greedy policy with probability 1 - e and selects a random action with probability e."
   ]
  },
  {
   "cell_type": "code",
   "execution_count": 19,
   "metadata": {
    "collapsed": false
   },
   "outputs": [],
   "source": [
    "# Add ops to save and restore all the variables.\n",
    "saver = tf.train.Saver()"
   ]
  },
  {
   "cell_type": "code",
   "execution_count": 20,
   "metadata": {
    "collapsed": false
   },
   "outputs": [],
   "source": [
    "restore = 1\n",
    "if restore:\n",
    "    saver.restore(session, \"/notebook/model2_200.ckpt\")\n",
    "    time_ox = exploration_period\n",
    "    time = time_ox * dt"
   ]
  },
  {
   "cell_type": "code",
   "execution_count": null,
   "metadata": {
    "collapsed": true
   },
   "outputs": [],
   "source": [
    "if restore:\n",
    "    f = open('/notebook/SquareWaveDemandSpringMassDamper4_experience.pckl')\n",
    "    experience = pickle.load(f)\n",
    "    f.close()"
   ]
  },
  {
   "cell_type": "code",
   "execution_count": null,
   "metadata": {
    "collapsed": false,
    "scrolled": true
   },
   "outputs": [
    {
     "name": "stdout",
     "output_type": "stream",
     "text": [
      "0.99 8 12.6754808209 0.05 0.345225662807\n",
      "[[ 38.62494659  38.7726059  -32.48075104 -20.51530647 -19.7554512\n",
      "   -1.97137666  39.06331635  34.0954895  -34.49328995 -35.69562912\n",
      "  -19.11380386 -33.42854691  37.0980835  -33.23517227  -3.45350099\n",
      "   38.16407776 -32.90114975 -30.83254051  -3.91637874  33.15892029\n",
      "   39.29744339]\n",
      " [ 38.62494659  38.7726059  -32.48075104 -20.51530647 -19.7554512\n",
      "   -1.97137666  39.06331635  34.0954895  -34.49328995 -35.69562912\n",
      "  -19.11380386 -33.42854691  37.0980835  -33.23517227  -3.45350099\n",
      "   38.16407776 -32.90114975 -30.83254051  -3.91637874  33.15892029\n",
      "   39.29744339]]\n",
      "[ -3.96082327e-02  -6.14870712e-02   4.03830968e-03   0.00000000e+00\n",
      "  -1.60191774e-01   0.00000000e+00  -3.87085893e-04  -3.83537300e-02\n",
      "  -8.59683933e-05  -1.10654354e-01  -2.80584209e-03   0.00000000e+00\n",
      "  -1.70043930e-02   4.48404215e-02   1.61625929e-02  -1.06897233e-02\n",
      "   1.27991699e-02  -3.05599570e-02   1.35038383e-02  -1.87764466e-01\n",
      "  -1.79138314e-02  -1.81542635e-01   0.00000000e+00   0.00000000e+00\n",
      "   0.00000000e+00  -4.79479730e-02  -1.66143626e-02  -2.22112089e-02\n",
      "  -1.44370846e-04   0.00000000e+00   8.21884163e-03   0.00000000e+00]\n"
     ]
    },
    {
     "data": {
      "image/png": "[encoded data removed]",
      "text/plain": [
       "<matplotlib.figure.Figure at 0x7f4a7a2a6650>"
      ]
     },
     "metadata": {},
     "output_type": "display_data"
    }
   ],
   "source": [
    "# More initialisation\n",
    "control = 0\n",
    "state = np.array([model_Dem, 0.0, model_Dem])\n",
    "last_observation = np.zeros(controlbatch*observation_ind)\n",
    "rstate = 0\n",
    "experiencelog = deque()\n",
    "improvement = deque()\n",
    "new_observation = state\n",
    "new_observationC = np.array([])\n",
    "mapped_action = np.floor(output_size/2)+1\n",
    "new_action = 0\n",
    "tv = []\n",
    "controls = []\n",
    "error = 0\n",
    "cheat = time_ox\n",
    "randomflag = 0\n",
    "randomcount = 0\n",
    "fig, axes = plt.subplots()\n",
    "\n",
    "mpexxx = np.array([0])\n",
    "mpexxx2 = np.array([0])\n",
    "\n",
    "# Some logging to check live action scores\n",
    "ass = np.array([])\n",
    "tass = ass\n",
    "ass2 = ass\n",
    "tass2 = ass\n",
    "\n",
    "for time_oxx in count():\n",
    "    time_ox = time_oxx + 1 + cheat\n",
    "    \n",
    "    # e-greedy control\n",
    "    if time_ox <= exploration_period:\n",
    "        exploration_p =  1#random_action_probability\n",
    "    else:\n",
    "        exploration_p = 0.05#np.max([random_action_probability-np.float((time_ox-exploration_period))/1000000, emin])\n",
    "        \n",
    "    if (time_ox % target_reset)==0:\n",
    "        # 'Deep' copy\n",
    "        #print \"Reset\"\n",
    "        #print Layer3.eval()[0]\n",
    "        #print TLayer3.eval()[0]\n",
    "        session.run(copy_L1)\n",
    "        session.run(copy_L2)\n",
    "        session.run(copy_L3)\n",
    "        #session.run(tf.initialize_variables([discount_rate]))\n",
    "        #print Layer3.eval()[0]\n",
    "        #print TLayer3.eval()[0]\n",
    "        \n",
    "    time = time + dt\n",
    "    tv.append(time)\n",
    "    \n",
    "    # Saving previous step\n",
    "    last_action = new_action #apped_action\n",
    "    \n",
    "    ## ----------------------------------------------------------------\n",
    "    ## INTERCHANGABLE MODEL\n",
    "    ## ----------------------------------------------------------------\n",
    "    # Model & Simulation\n",
    "    dydx = np.zeros_like(state)\n",
    "    dydx[0] = state[1]\n",
    "    accel = (-model_K*state[0] - model_C*state[1]) / M1\n",
    "    dydx[1] = (accel + control) /M1\n",
    "    dydx[2] = 0\n",
    "    #dydx[3] = 0\n",
    "    #target = model_Dem * signal.square(2 * np.pi * model_f * time)\n",
    "    #target = model_Dem * signal.sawtooth(4 * np.pi * model_f * time)\n",
    "    target = model_Dem *np.sin(4 * np.pi * model_f * time)\n",
    "    \n",
    "    state = state + dydx * dt\n",
    "    #state[2] = accel\n",
    "    state[2] = target\n",
    "    \n",
    "    # Collecting reward\n",
    "    preverror = error\n",
    "    error = state[0]-target\n",
    "    \n",
    "    reward = 1.0/np.cosh(2*error) - 0.5 #+  np.sign(error-preverror)\n",
    "    \n",
    "    ## ----------------------------------------------------------------\n",
    "    \n",
    "    # Collecting together data for an observation\n",
    "    new_observation = state\n",
    "    \n",
    "    experiencelog.append((last_observation, last_action, reward, new_observation, target))\n",
    "    controls.append(control)\n",
    "    \n",
    "    if randomcount >= randommax:\n",
    "        randomflag = 0\n",
    "        randomcount = 0\n",
    "        \n",
    "    if (time_ox % (controlbatch))!=0:\n",
    "        new_observationC = np.append(new_observationC,new_observation)\n",
    "    else:\n",
    "        new_observationC = np.append(new_observationC,new_observation)\n",
    "        if randomflag == 0:\n",
    "            if (random.random() < exploration_p) | (len(experience)<exploration_period):\n",
    "                new_action = random.randint(0, output_size - 1)\n",
    "                randomcount = 0\n",
    "                randomflag = 1\n",
    "            else:\n",
    "                new_actions, ass, tass = session.run( # Selecting control value\n",
    "                    [predicted_actions,\n",
    "                    action_scores,\n",
    "                    Taction_scores],\n",
    "                    {observation: [new_observationC], next_observation: [new_observationC]}\n",
    "                 )\n",
    "                new_action = new_actions[0]\n",
    "                \n",
    "        else:\n",
    "            randomcount += 1\n",
    "        \n",
    "        # Making a zero output correspond to the most zero action\n",
    "        control = C[new_action]\n",
    "\n",
    "        # Training\n",
    "        if len(experience) >= exploration_period:\n",
    "            samples = random.sample(range(len(experience)), minibatch_size)\n",
    "            samples = [experience[i] for i in samples]\n",
    "\n",
    "            Xobservation = np.empty((len(samples), observation_size))\n",
    "            Xnewobservation = np.empty((len(samples), observation_size))\n",
    "            Xaction_mask = np.zeros((len(samples), output_size))\n",
    "            Xrewards = np.zeros((len(samples),))\n",
    "\n",
    "            for i, (x_observation, x_action, x_reward, x_newobservation) in enumerate(samples):\n",
    "                Xobservation[i] = x_observation\n",
    "                Xaction_mask[i][x_action] = 1\n",
    "                Xrewards[i] = x_reward\n",
    "                Xnewobservation[i] = x_newobservation\n",
    "            \n",
    "            mpexxx = session.run([\n",
    "                prediction_error,\n",
    "            ], { \n",
    "                observation: Xobservation,\n",
    "                next_observation: Xnewobservation,\n",
    "                action_mask: Xaction_mask,\n",
    "                rewards: Xrewards,\n",
    "            })\n",
    "            \n",
    "            _, summary, ascores = session.run([\n",
    "                train_op,\n",
    "                merged,\n",
    "                action_scores,\n",
    "            ], { \n",
    "                observation: Xobservation,\n",
    "                next_observation: Xnewobservation,\n",
    "                action_mask: Xaction_mask,\n",
    "                rewards: Xrewards,\n",
    "            })\n",
    "            \n",
    "            mpexxx2 = session.run([\n",
    "                prediction_error,\n",
    "            ], { \n",
    "                observation: Xobservation,\n",
    "                next_observation: Xnewobservation,\n",
    "                action_mask: Xaction_mask,\n",
    "                rewards: Xrewards,\n",
    "            })\n",
    "            \n",
    "            improvement.append((np.sum(mpexxx2[0] - mpexxx[0])))\n",
    "            # Add to tensorboard\n",
    "            writer.add_summary(summary, time_oxx)\n",
    "    \n",
    "            # Hunting down NaNs\n",
    "            temp = Layer3.eval()\n",
    "            if np.isnan(temp).any():\n",
    "                print np.isnan(Xobservation)\n",
    "                print np.isnan(Xnewobservation)\n",
    "                print np.isnan(Xaction_mask)\n",
    "                print np.isnan(Xrewards)\n",
    "                break            \n",
    "        \n",
    "        # Collecting experience\n",
    "        experience.append((last_observation, last_action, reward, new_observationC)) # Switched to last action for a logical set of data\n",
    "            \n",
    "        if len(experience) > max_experience:\n",
    "            experience.popleft()\n",
    "        \n",
    "        # Re-freshing        \n",
    "        last_observation = new_observationC # Reset last observation now that it has been added to experience\n",
    "        new_observationC = np.array([])\n",
    "        \n",
    "    # End of optimization\n",
    "    if episodes == episode_max:\n",
    "        break\n",
    "            \n",
    "    if time > tepisode_max:\n",
    "        \n",
    "        # Plotting every X episodes\n",
    "        \n",
    "        states = [row[3] for row in experiencelog]\n",
    "        tgt = [row[4] for row in experiencelog]\n",
    "        x = [row[0] for row in states]\n",
    "        v = [row[1] for row in states]\n",
    "        rew = [row[2] for row in experiencelog]\n",
    "        rewardsTotal = sum([row[2] for row in experiencelog])\n",
    "        improvements = [row for row in improvement]\n",
    "        if (episodes % plot_every) == 0:\n",
    "            print discount_rate.eval(), episodes, rewardsTotal, exploration_p, np.mean(x)\n",
    "            print np.concatenate((ass, tass), axis=0)\n",
    "            #print np.concatenate((ass, ass2), axis=0)\n",
    "            #print np.concatenate((tass, tass2), axis=0)\n",
    "            print mpexxx2[0] - mpexxx[0]        \n",
    "            #print Layer3.eval()[0] - TLayer3.eval()[0]\n",
    "            \n",
    "            plt.clf()\n",
    "            \n",
    "            ax1 = plt.subplot(2, 1, 1)\n",
    "            ax1.plot(tv,controls)\n",
    "            ax1.plot(tv, x)\n",
    "            ax1.plot(tv, v)\n",
    "            ax1.plot(tv,tgt)\n",
    "            ax1.plot(tv,rew)\n",
    "            \n",
    "            ax2 = plt.subplot(2, 1, 2)\n",
    "            ax2.plot(improvements)\n",
    "            \n",
    "            display.display(plt.gcf())\n",
    "            display.clear_output(wait=True)\n",
    "            timelib.sleep(0.1)\n",
    "        \n",
    "        # Save model\n",
    "        if (episodes % save_every) == 0:\n",
    "            filename = '/notebook/model2_' + str(episodes) + '.ckpt'\n",
    "            save_path = saver.save(session, filename)\n",
    "            print(\"Model saved in file: %s\" % save_path)\n",
    "            \n",
    "        # Resetting for next episode\n",
    "        #state = np.array([model_Dem, 0.0, model_Dem])\n",
    "        #new_action = np.floor(output_size/2)+1\n",
    "        #new_observation = state\n",
    "        controls = []\n",
    "        time = 0\n",
    "        tv = []\n",
    "        episodes = episodes + 1\n",
    "        experiencelog = deque()\n",
    "        improvement = deque()"
   ]
  },
  {
   "cell_type": "code",
   "execution_count": null,
   "metadata": {
    "collapsed": false
   },
   "outputs": [],
   "source": [
    "saver = tf.train.Saver()\n",
    "save_path = '/notebook/SquareWaveDemandSpringMassDamper4.ckpt'\n",
    "saver.save(session, save_path)\n",
    "print(\"Model saved in file: %s\" % save_path)\n",
    "\n",
    "f = open('/notebook/SquareWaveDemandSpringMassDamper4_experience.pckl', 'w')\n",
    "pickle.dump(experience, f)\n",
    "f.close()"
   ]
  },
  {
   "cell_type": "code",
   "execution_count": null,
   "metadata": {
    "collapsed": false
   },
   "outputs": [],
   "source": [
    "temp1, temp2, temp3 = session.run([masked_action_scores, future_rewards, gradients], { \n",
    "                observation: Xobservation,\n",
    "                next_observation: Xnewobservation,\n",
    "                action_mask: Xaction_mask,\n",
    "                rewards: Xrewards,\n",
    "            })\n",
    "\n",
    "print temp1\n",
    "print temp2"
   ]
  },
  {
   "cell_type": "code",
   "execution_count": null,
   "metadata": {
    "collapsed": false
   },
   "outputs": [],
   "source": [
    "temp1 = session.run([y2], { \n",
    "                observation: Xobservation,\n",
    "                next_observation: Xnewobservation,\n",
    "                action_mask: Xaction_mask,\n",
    "                rewards: Xrewards,\n",
    "            })\n",
    "\n",
    "print temp1\n"
   ]
  },
  {
   "cell_type": "code",
   "execution_count": null,
   "metadata": {
    "collapsed": false
   },
   "outputs": [],
   "source": [
    "output_size"
   ]
  }
 ],
 "metadata": {
  "celltoolbar": "Raw Cell Format",
  "kernelspec": {
   "display_name": "Python 2",
   "language": "python",
   "name": "python2"
  },
  "language_info": {
   "codemirror_mode": {
    "name": "ipython",
    "version": 2
   },
   "file_extension": ".py",
   "mimetype": "text/x-python",
   "name": "python",
   "nbconvert_exporter": "python",
   "pygments_lexer": "ipython2",
   "version": "2.7.11"
  }
 },
 "nbformat": 4,
 "nbformat_minor": 0
}
