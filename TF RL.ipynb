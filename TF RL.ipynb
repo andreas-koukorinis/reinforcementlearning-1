{
 "cells": [
  {
   "cell_type": "markdown",
   "metadata": {},
   "source": [
    "https://storage.googleapis.com/deepmind-data/assets/papers/DeepMindNature14236Paper.pdf"
   ]
  },
  {
   "cell_type": "markdown",
   "metadata": {},
   "source": [
    "http://www.nervanasys.com/demystifying-deep-reinforcement-learning/"
   ]
  },
  {
   "cell_type": "code",
   "execution_count": 1,
   "metadata": {
    "collapsed": false
   },
   "outputs": [],
   "source": [
    "%load_ext autoreload\n",
    "%autoreload 2\n",
    "%matplotlib inline"
   ]
  },
  {
   "cell_type": "code",
   "execution_count": 26,
   "metadata": {
    "collapsed": true
   },
   "outputs": [],
   "source": [
    "import numpy as np\n",
    "import random\n",
    "import tensorflow as tf\n",
    "from itertools import count\n",
    "from collections import deque\n",
    "from tensorflow.python.framework import ops\n",
    "import matplotlib.pyplot as plt\n",
    "import time as timelib\n",
    "from scipy import signal\n",
    "from IPython import display\n",
    "import os"
   ]
  },
  {
   "cell_type": "code",
   "execution_count": 37,
   "metadata": {
    "collapsed": false
   },
   "outputs": [],
   "source": [
    "startPath = os.getcwd()"
   ]
  },
  {
   "cell_type": "code",
   "execution_count": 3,
   "metadata": {
    "collapsed": false
   },
   "outputs": [],
   "source": [
    "# Learning parameters\n",
    "minibatch_size = 32 # As suggested in DeepMind Nature paper\n",
    "discount_rate = 0.99\n",
    "episode_max = 5000\n",
    "tepisode_max = 20\n",
    "random_action_probability= 0.9 # initial value of e in e-greedy exploration - 0.9\n",
    "exploration_period=100000\n",
    "target_reset = 10000 # Deepmind used 10000\n",
    "max_experience = 1000000\n",
    "controlbatch = 4\n",
    "learnrate = 0.00025 # Deepmind used 0.00025\n",
    "randomTC = 10000 #1000000 for nice and slow\n",
    "gradientmomentum = 0.95\n",
    "\n",
    "randommax = 20/controlbatch # multiplied by controlbatch\n",
    "emin = 0.002"
   ]
  },
  {
   "cell_type": "code",
   "execution_count": 30,
   "metadata": {
    "collapsed": true
   },
   "outputs": [],
   "source": [
    "# Plot parameters\n",
    "plot_every = 1"
   ]
  },
  {
   "cell_type": "code",
   "execution_count": 5,
   "metadata": {
    "collapsed": true
   },
   "outputs": [],
   "source": [
    "# Model parameters\n",
    "L1 = 1.0\n",
    "L2 = 1.0\n",
    "M1 = 1.0\n",
    "M2 = 1.0\n",
    "model_K = 1.0\n",
    "model_C = 1.0\n",
    "model_f = 0.2\n",
    "model_Dem = 3.0\n",
    "G = 9.81"
   ]
  },
  {
   "cell_type": "code",
   "execution_count": 6,
   "metadata": {
    "collapsed": true
   },
   "outputs": [],
   "source": [
    "# Simulation parameters\n",
    "dt = 0.01"
   ]
  },
  {
   "cell_type": "markdown",
   "metadata": {},
   "source": [
    "We instead use an architecture in which there is a separate output unit for each possible action, and only the state representation is an input to the neural network. The outputs correspond to the predicted Q-values of the individual actions for the input state. The main advantage of this type of architecture is the ability to compute Q-values for all possible actions in a given state with only a single forward pass through the network."
   ]
  },
  {
   "cell_type": "code",
   "execution_count": 7,
   "metadata": {
    "collapsed": false
   },
   "outputs": [],
   "source": [
    "ops.reset_default_graph()\n",
    "\n",
    "# TensorFlow configuration\n",
    "session = tf.InteractiveSession()\n",
    "optimizer = tf.train.RMSPropOptimizer(learning_rate= learnrate, decay=gradientmomentum)\n",
    "#optimizer = tf.train.GradientDescentOptimizer(learning_rate=learnrate)\n",
    "\n",
    "# Network\n",
    "observation_ind = 3\n",
    "observation_size = observation_ind*controlbatch\n",
    "output_size = 21\n",
    "hidden1_size = 100\n",
    "hidden2_size = 100\n",
    "observation = tf.placeholder(tf.float32, (None, observation_size), name=\"observation\")\n",
    "next_observation = tf.placeholder(tf.float32, (None, observation_size), name=\"next_observation\")\n",
    "\n",
    "with tf.name_scope(\"Live\") as scope:\n",
    "    \n",
    "    Layer1 = tf.Variable(tf.random_normal([observation_size, hidden1_size], stddev=0.35),name=\"Layer1\")\n",
    "    Layer2 = tf.Variable(tf.random_normal([hidden1_size, hidden2_size], stddev=0.35),name=\"Layer2\")\n",
    "    Layer3 = tf.Variable(tf.random_normal([hidden2_size, output_size], stddev=0.35),name=\"Layer3\")\n",
    "\n",
    "    y1 = tf.nn.relu(tf.matmul(observation, Layer1))\n",
    "    y2 = tf.nn.relu(tf.matmul(y1, Layer2))\n",
    "    y3 = tf.matmul(y2, Layer3)\n",
    "    \n",
    "    action_scores = tf.identity(y3, name=\"action_scores\") # Takes current value\n",
    "    predicted_actions = tf.argmax(action_scores, dimension=1, name=\"predicted_actions\")\n",
    "\n",
    "with tf.name_scope(\"Frozen\") as scope:\n",
    "    \n",
    "    TLayer1 = tf.Variable(Layer1.initialized_value(),name=\"TLayer1\")\n",
    "    TLayer2 = tf.Variable(Layer2.initialized_value(),name=\"TLayer2\")\n",
    "    TLayer3 = tf.Variable(Layer3.initialized_value(),name=\"TLayer3\")\n",
    "\n",
    "    Ty1 = tf.nn.relu(tf.matmul(next_observation, TLayer1))\n",
    "    Ty2 = tf.nn.relu(tf.matmul(Ty1, TLayer2))\n",
    "    Ty3 = tf.matmul(Ty2, TLayer3)\n",
    "\n",
    "    Taction_scores = tf.identity(Ty3, name=\"Taction_scores\") # Takes current value\n",
    "    Tpredicted_actions = tf.argmax(Taction_scores, dimension=1, name=\"predicted_actions\")"
   ]
  },
  {
   "cell_type": "code",
   "execution_count": 8,
   "metadata": {
    "collapsed": false
   },
   "outputs": [],
   "source": [
    "# Control parameters\n",
    "Cmax = 10\n",
    "C = np.linspace(-Cmax,Cmax,output_size)"
   ]
  },
  {
   "cell_type": "code",
   "execution_count": 9,
   "metadata": {
    "collapsed": true
   },
   "outputs": [],
   "source": [
    "# Training:  Placeholders\n",
    "action_mask = tf.placeholder(tf.float32, (None, output_size), name=\"action_mask\")\n",
    "rewards = tf.placeholder(tf.float32, (minibatch_size,), name=\"rewards\")\n",
    "next_observation_mask = tf.placeholder(tf.float32, (None,), name=\"next_observation_mask\")"
   ]
  },
  {
   "cell_type": "code",
   "execution_count": 10,
   "metadata": {
    "collapsed": false
   },
   "outputs": [],
   "source": [
    "# Training: Current\n",
    "masked_action_scores = tf.reduce_sum(action_scores * action_mask, reduction_indices=[1,])"
   ]
  },
  {
   "cell_type": "code",
   "execution_count": 11,
   "metadata": {
    "collapsed": false
   },
   "outputs": [],
   "source": [
    "# Training: Future\n",
    "next_action_scores = tf.to_float(tf.stop_gradient(Taction_scores)) # Break tensor chain\n",
    "target_values = tf.reduce_max(next_action_scores, reduction_indices=[1,]) # Maximum predicted future reward\n",
    "future_rewards = tf.identity(rewards) + discount_rate * target_values"
   ]
  },
  {
   "cell_type": "code",
   "execution_count": 12,
   "metadata": {
    "collapsed": false
   },
   "outputs": [],
   "source": [
    "# Training: Optimisation\n",
    "with tf.name_scope(\"optimize\") as scope:\n",
    "    #temp_diff = tf.clip_by_value((masked_action_scores - future_rewards), -1, 1) # Clipped to -1 and 1\n",
    "    temp_diff = (masked_action_scores - future_rewards)\n",
    "    prediction_error = tf.square(temp_diff)\n",
    "    mean_prediction_error = tf.reduce_mean(prediction_error, reduction_indices=[0,]) # Mean across all samples per action\n",
    "    train_op = optimizer.minimize(temp_diff)\n",
    "    #mpe_summary = tf.scalar_summary(\"mean prediction error\", temp_diff)"
   ]
  },
  {
   "cell_type": "code",
   "execution_count": 13,
   "metadata": {
    "collapsed": false,
    "slideshow": {
     "slide_type": "-"
    }
   },
   "outputs": [],
   "source": [
    "# Initialisation\n",
    "session.run(tf.initialize_all_variables())"
   ]
  },
  {
   "cell_type": "code",
   "execution_count": 14,
   "metadata": {
    "collapsed": false
   },
   "outputs": [],
   "source": [
    "# Writer\n",
    "merged = tf.merge_all_summaries()\n",
    "writer = tf.train.SummaryWriter(\"Users/davidbrowne/tensorflowlogs/\", session.graph_def)"
   ]
  },
  {
   "cell_type": "markdown",
   "metadata": {},
   "source": [
    "Following previous approaches to playing Atari 2600 games, we also use a simple frame-skipping technique. More precisely, the agent sees and selects actions on every kth frame instead of every frame, and its last action is repeated on skipped frames."
   ]
  },
  {
   "cell_type": "code",
   "execution_count": 16,
   "metadata": {
    "collapsed": true
   },
   "outputs": [],
   "source": [
    "time_ox = 0\n",
    "experience = deque()"
   ]
  },
  {
   "cell_type": "markdown",
   "metadata": {},
   "source": [
    "In practice, the behaviour distribution is often selected by an e-greedy policy that follows the greedy policy with probability 1 - e and selects a random action with probability e."
   ]
  },
  {
   "cell_type": "code",
   "execution_count": 19,
   "metadata": {
    "collapsed": false
   },
   "outputs": [
    {
     "ename": "KeyboardInterrupt",
     "evalue": "",
     "output_type": "error",
     "traceback": [
      "\u001b[0;31m---------------------------------------------------------------------------\u001b[0m",
      "\u001b[0;31mKeyboardInterrupt\u001b[0m                         Traceback (most recent call last)",
      "\u001b[0;32m<ipython-input-19-de5913bb9530>\u001b[0m in \u001b[0;36m<module>\u001b[0;34m()\u001b[0m\n\u001b[1;32m    105\u001b[0m         \u001b[0;31m# Training\u001b[0m\u001b[0;34m\u001b[0m\u001b[0;34m\u001b[0m\u001b[0m\n\u001b[1;32m    106\u001b[0m         \u001b[0;32mif\u001b[0m \u001b[0mlen\u001b[0m\u001b[0;34m(\u001b[0m\u001b[0mexperience\u001b[0m\u001b[0;34m)\u001b[0m \u001b[0;34m>\u001b[0m \u001b[0mminibatch_size\u001b[0m\u001b[0;34m:\u001b[0m\u001b[0;34m\u001b[0m\u001b[0m\n\u001b[0;32m--> 107\u001b[0;31m             \u001b[0msamples\u001b[0m \u001b[0;34m=\u001b[0m \u001b[0mrandom\u001b[0m\u001b[0;34m.\u001b[0m\u001b[0msample\u001b[0m\u001b[0;34m(\u001b[0m\u001b[0mrange\u001b[0m\u001b[0;34m(\u001b[0m\u001b[0mlen\u001b[0m\u001b[0;34m(\u001b[0m\u001b[0mexperience\u001b[0m\u001b[0;34m)\u001b[0m\u001b[0;34m)\u001b[0m\u001b[0;34m,\u001b[0m \u001b[0mminibatch_size\u001b[0m\u001b[0;34m)\u001b[0m\u001b[0;34m\u001b[0m\u001b[0m\n\u001b[0m\u001b[1;32m    108\u001b[0m             \u001b[0msamples\u001b[0m \u001b[0;34m=\u001b[0m \u001b[0;34m[\u001b[0m\u001b[0mexperience\u001b[0m\u001b[0;34m[\u001b[0m\u001b[0mi\u001b[0m\u001b[0;34m]\u001b[0m \u001b[0;32mfor\u001b[0m \u001b[0mi\u001b[0m \u001b[0;32min\u001b[0m \u001b[0msamples\u001b[0m\u001b[0;34m]\u001b[0m\u001b[0;34m\u001b[0m\u001b[0m\n\u001b[1;32m    109\u001b[0m \u001b[0;34m\u001b[0m\u001b[0m\n",
      "\u001b[0;31mKeyboardInterrupt\u001b[0m: "
     ]
    },
    {
     "data": {
      "image/png": "[encoded data removed]",
      "text/plain": [
       "<matplotlib.figure.Figure at 0x10e6b4ad0>"
      ]
     },
     "metadata": {},
     "output_type": "display_data"
    }
   ],
   "source": [
    "# More initialisation\n",
    "fix = 1\n",
    "control = 0\n",
    "time = 0\n",
    "episodes = 0\n",
    "state = np.array([model_Dem, 0.0, model_Dem])\n",
    "last_observation = np.zeros(controlbatch*observation_ind)\n",
    "rstate = 0\n",
    "experiencelog = deque()\n",
    "new_observation = state\n",
    "new_observationC = np.array([])\n",
    "new_action = np.floor(output_size/2)+1\n",
    "tv = []\n",
    "controls = []\n",
    "error = 0\n",
    "cheat = time_ox\n",
    "randomflag = 0\n",
    "randomcount = 0\n",
    "\n",
    "fig, axes = plt.subplots()\n",
    "\n",
    "for time_oxx in count():\n",
    "    time_ox = time_oxx + 1 + cheat\n",
    "    \n",
    "    if (time_ox % target_reset)==0:\n",
    "        TLayer1 = tf.identity(Layer1)\n",
    "        TLayer2 = tf.identity(Layer2)\n",
    "        TLayer3 = tf.identity(Layer3) # NB: Change this for 2 hidden layers\n",
    "        \n",
    "    time = time + dt\n",
    "    tv.append(time)\n",
    "    \n",
    "    # Saving previous step\n",
    "    last_action = new_action\n",
    "    \n",
    "    ## ----------------------------------------------------------------\n",
    "    ## INTERCHANGABLE MODEL\n",
    "    ## ----------------------------------------------------------------\n",
    "    # Model & Simulation\n",
    "    dydx = np.zeros_like(state)\n",
    "    dydx[0] = state[1]\n",
    "    dydx[1] = (-model_K*state[0] - model_C*state[1] + control) /M1\n",
    "    dydx[2] = 0\n",
    "    target = model_Dem #* signal.square(2 * np.pi * model_f * time)\n",
    "    \n",
    "    state = state + dydx * dt\n",
    "    state[2] = target\n",
    "    \n",
    "    # Collecting reward\n",
    "    preverror = error\n",
    "    error = (abs(state[0]-target))\n",
    "    \n",
    "    reward = -error +  np.sign(error-preverror)\n",
    "    \n",
    "    ## ----------------------------------------------------------------\n",
    "    \n",
    "    # Collecting together data for an observation\n",
    "    new_observation = state\n",
    "    \n",
    "    experiencelog.append((last_observation, last_action, reward, new_observation, target))\n",
    "    controls.append(control)\n",
    "    \n",
    "    # e-greedy control\n",
    "    n = time_ox\n",
    "    if n <= exploration_period:\n",
    "        exploration_p =  random_action_probability\n",
    "    else:\n",
    "        #exploration_p =  1 - (n * (1 - random_action_probability)) / (exploration_period)\n",
    "        exploration_p = np.max([random_action_probability-np.float((n-exploration_period))/1000000, emin])\n",
    "    \n",
    "    if randomcount > randommax:\n",
    "        randomflag = 0\n",
    "        randomcount = 0\n",
    "        \n",
    "    if (time_ox % (controlbatch))!=0:\n",
    "        new_observationC = np.append(new_observationC,new_observation)\n",
    "    else:\n",
    "        new_observationC = np.append(new_observationC,new_observation)\n",
    "        if randomflag == 0:\n",
    "            if (random.random() < exploration_p) | (time_ox<exploration_period):\n",
    "                new_action = random.randint(0, output_size - 1)\n",
    "                randomcount = 0\n",
    "                randomflag = 1\n",
    "            else:\n",
    "                new_actions = session.run( # Selecting control value\n",
    "                    predicted_actions,\n",
    "                    {observation: [new_observationC]}\n",
    "                 )\n",
    "                new_action = new_actions[0]\n",
    "        else:\n",
    "            randomcount += 1\n",
    "        \n",
    "        control = C[new_action]\n",
    "        #print control\n",
    "        # Collecting experience\n",
    "        #if time_ox > 1:\n",
    "        experience.append((last_observation, last_action, reward, new_observationC)) # Switched to last action for a logical set of data\n",
    "        \n",
    "        last_observation = new_observationC # Reset last observation now that it has been added to experience\n",
    "        new_observationC = np.array([])\n",
    "            \n",
    "        if len(experience) > max_experience:\n",
    "            experience.popleft()\n",
    "\n",
    "        # Training\n",
    "        if len(experience) > minibatch_size:\n",
    "            samples = random.sample(range(len(experience)), minibatch_size)\n",
    "            samples = [experience[i] for i in samples]\n",
    "\n",
    "            Xobservation = np.empty((len(samples), observation_size))\n",
    "            Xnewobservation = np.empty((len(samples), observation_size))\n",
    "            Xaction_mask = np.zeros((len(samples), output_size))\n",
    "            Xrewards = np.zeros((len(samples),))\n",
    "\n",
    "            for i, (x_observation, x_action, x_reward, x_newobservation) in enumerate(samples):\n",
    "                Xobservation[i] = x_observation\n",
    "                Xaction_mask[i][x_action] = 1\n",
    "                Xrewards[i] = x_reward\n",
    "                Xnewobservation[i] = x_newobservation\n",
    "            \n",
    "            #print Xaction_mask\n",
    "            #print Xrewards\n",
    "            \n",
    "            cost, _, = session.run([ # Fetches\n",
    "                    action_scores,\n",
    "                    train_op,\n",
    "                ], { \n",
    "                    observation: Xobservation,\n",
    "                    next_observation: Xnewobservation,\n",
    "                    action_mask: Xaction_mask,\n",
    "                    rewards: Xrewards,\n",
    "                })        \n",
    "\n",
    "            # Add to tensorboard\n",
    "            #writer.add_summary(summary, time_oxx)\n",
    "    \n",
    "    \n",
    "            # Hunting down NaNs\n",
    "            temp = Layer3.eval()\n",
    "\n",
    "            if np.isnan(temp).any():\n",
    "                print np.isnan(Xobservation)\n",
    "                print np.isnan(Xnewobservation)\n",
    "                print np.isnan(Xaction_mask)\n",
    "                print np.isnan(Xrewards)\n",
    "                break\n",
    "        \n",
    "    \n",
    "    # End of optimization\n",
    "    if episodes == episode_max:\n",
    "        break\n",
    "\n",
    "    if time > tepisode_max:\n",
    "        \n",
    "        # Plotting every X episodes\n",
    "        \n",
    "        states = [row[3] for row in experiencelog]\n",
    "        tgt = [row[4] for row in experiencelog]\n",
    "        x = [row[0] for row in states]\n",
    "        v = [row[1] for row in states]\n",
    "        rewardsTotal = sum([row[2] for row in experiencelog])\n",
    "        \n",
    "        if (episodes % plot_every) == 0:\n",
    "            print rewardsTotal, exploration_p, np.mean(x)\n",
    "            plt.cla()\n",
    "            axes.plot(tv,controls)\n",
    "            axes.plot(tv, x)\n",
    "            axes.plot(tv, v)\n",
    "            axes.plot(tv,tgt)\n",
    "            display.display(plt.gcf())\n",
    "            display.clear_output(wait=True)\n",
    "            timelib.sleep(1.0)\n",
    "            #fix = fix + 1\n",
    "            \n",
    "        # Resetting for next episode\n",
    "        time = 0\n",
    "        tv = []\n",
    "        episodes = episodes + 1\n",
    "        state = np.array([model_Dem, 0.0, model_Dem])\n",
    "        new_action = np.floor(output_size/2)+1\n",
    "        new_observation = state\n",
    "        controls = []\n",
    "        time = 0\n",
    "        tv = []\n",
    "        episodes = episodes + 1\n",
    "        experiencelog = deque()"
   ]
  },
  {
   "cell_type": "code",
   "execution_count": 41,
   "metadata": {
    "collapsed": false
   },
   "outputs": [
    {
     "name": "stdout",
     "output_type": "stream",
     "text": [
      "Model saved in file: /Users/davidbrowne/TensorFlowReinforcementLearning/Models/ConstantDemandSpringMassDamper.ckpt\n"
     ]
    }
   ],
   "source": [
    "saver = tf.train.Saver()\n",
    "save_path = os.path.join(startPath,'Models','ConstantDemandSpringMassDamper.ckpt')\n",
    "saver.save(session, save_path)\n",
    "print(\"Model saved in file: %s\" % save_path)"
   ]
  }
 ],
 "metadata": {
  "celltoolbar": "Raw Cell Format",
  "kernelspec": {
   "display_name": "Python 2",
   "language": "python",
   "name": "python2"
  },
  "language_info": {
   "codemirror_mode": {
    "name": "ipython",
    "version": 2
   },
   "file_extension": ".py",
   "mimetype": "text/x-python",
   "name": "python",
   "nbconvert_exporter": "python",
   "pygments_lexer": "ipython2",
   "version": "2.7.10"
  }
 },
 "nbformat": 4,
 "nbformat_minor": 0
}
