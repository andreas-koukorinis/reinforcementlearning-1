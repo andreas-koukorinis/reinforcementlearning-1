{
 "cells": [
  {
   "cell_type": "markdown",
   "metadata": {
    "collapsed": true
   },
   "source": [
    "https://storage.googleapis.com/deepmind-data/assets/papers/DeepMindNature14236Paper.pdf"
   ]
  },
  {
   "cell_type": "markdown",
   "metadata": {},
   "source": [
    "http://www.nervanasys.com/demystifying-deep-reinforcement-learning/"
   ]
  },
  {
   "cell_type": "code",
   "execution_count": 107,
   "metadata": {
    "collapsed": false
   },
   "outputs": [
    {
     "name": "stdout",
     "output_type": "stream",
     "text": [
      "The autoreload extension is already loaded. To reload it, use:\n",
      "  %reload_ext autoreload\n"
     ]
    }
   ],
   "source": [
    "%load_ext autoreload\n",
    "%autoreload 2\n",
    "%matplotlib inline"
   ]
  },
  {
   "cell_type": "code",
   "execution_count": 108,
   "metadata": {
    "collapsed": true
   },
   "outputs": [],
   "source": [
    "import numpy as np\n",
    "import random\n",
    "import tensorflow as tf\n",
    "from itertools import count\n",
    "from collections import deque\n",
    "from tensorflow.python.framework import ops\n",
    "import matplotlib.pyplot as plt\n",
    "import time as timelib\n",
    "from scipy import signal\n",
    "from IPython import display\n",
    "import os"
   ]
  },
  {
   "cell_type": "code",
   "execution_count": 109,
   "metadata": {
    "collapsed": true
   },
   "outputs": [],
   "source": [
    "startPath = os.getcwd()"
   ]
  },
  {
   "cell_type": "code",
   "execution_count": 110,
   "metadata": {
    "collapsed": true
   },
   "outputs": [],
   "source": [
    "# Learning parameters\n",
    "minibatch_size = 32 # 32 suggested in DeepMind Nature paper\n",
    "episode_max = 5000\n",
    "tepisode_max = 20\n",
    "random_action_probability = 1 # initial value of e in e-greedy exploration - 0.9\n",
    "target_reset = 10000 # Deepmind used 10000\n",
    "max_experience = 100000\n",
    "exploration_period = max_experience #max_experience/40\n",
    "controlbatch = 1\n",
    "learnrate = 0.0025 # Deepmind used 0.00025\n",
    "randomTC = 10000 # 1000000 for nice and slow\n",
    "gradientmomentum = 0.95\n",
    "randommax = 1 #20/controlbatch # multiplied by controlbatch\n",
    "emin = 0.05 # 5% of the time"
   ]
  },
  {
   "cell_type": "code",
   "execution_count": 111,
   "metadata": {
    "collapsed": false
   },
   "outputs": [],
   "source": [
    "# Simulation parameters\n",
    "dt = 0.05"
   ]
  },
  {
   "cell_type": "code",
   "execution_count": 112,
   "metadata": {
    "collapsed": true
   },
   "outputs": [],
   "source": [
    "# Plot parameters\n",
    "plot_every = 1"
   ]
  },
  {
   "cell_type": "code",
   "execution_count": 113,
   "metadata": {
    "collapsed": true
   },
   "outputs": [],
   "source": [
    "# Model parameters\n",
    "L1 = 1.0\n",
    "L2 = 1.0\n",
    "M1 = 1.0\n",
    "M2 = 1.0\n",
    "model_K = 1\n",
    "model_C = 1\n",
    "model_f = 0.05\n",
    "model_Dem = 1.0\n",
    "G = 9.81"
   ]
  },
  {
   "cell_type": "code",
   "execution_count": 114,
   "metadata": {
    "collapsed": false
   },
   "outputs": [
    {
     "name": "stderr",
     "output_type": "stream",
     "text": [
      "Exception AssertionError: AssertionError() in <bound method InteractiveSession.__del__ of <tensorflow.python.client.session.InteractiveSession object at 0x1105ed050>> ignored\n"
     ]
    }
   ],
   "source": [
    "ops.reset_default_graph()\n",
    "session = tf.InteractiveSession()"
   ]
  },
  {
   "cell_type": "code",
   "execution_count": 115,
   "metadata": {
    "collapsed": true
   },
   "outputs": [],
   "source": [
    "# TensorFlow configuration\n",
    "optimizer = tf.train.RMSPropOptimizer(learning_rate=learnrate)"
   ]
  },
  {
   "cell_type": "markdown",
   "metadata": {},
   "source": [
    "We instead use an architecture in which there is a separate output unit for each possible action, and only the state representation is an input to the neural network. The outputs correspond to the predicted Q-values of the individual actions for the input state. The main advantage of this type of architecture is the ability to compute Q-values for all possible actions in a given state with only a single forward pass through the network."
   ]
  },
  {
   "cell_type": "code",
   "execution_count": 116,
   "metadata": {
    "collapsed": false
   },
   "outputs": [],
   "source": [
    "# Network\n",
    "observation_ind = 3\n",
    "observation_size = observation_ind*controlbatch\n",
    "output_size = 21\n",
    "hidden1_size = 50\n",
    "hidden2_size = 50\n",
    "observation = tf.placeholder(tf.float32, (None, observation_size), name=\"observation\")\n",
    "next_observation = tf.placeholder(tf.float32, (None, observation_size), name=\"next_observation\")\n",
    "\n",
    "with tf.name_scope(\"Live\") as scope:\n",
    "    \n",
    "    Layer1 = tf.Variable(tf.random_normal([observation_size, hidden1_size], stddev=0.1, mean=0.1),name=\"Layer1\")\n",
    "    Layer2 = tf.Variable(tf.random_normal([hidden1_size, hidden2_size], stddev=0.1, mean=0.1),name=\"Layer2\")\n",
    "    Layer3 = tf.Variable(tf.random_normal([hidden2_size, output_size], stddev=0.1, mean=0.1),name=\"Layer3\")\n",
    "\n",
    "    y1 = tf.nn.tanh(tf.matmul(observation, Layer1))\n",
    "    y2 = tf.nn.tanh(tf.matmul(y1, Layer2))\n",
    "    action_scores = tf.matmul(y2, Layer3)\n",
    "    \n",
    "    action_scores_max = tf.reduce_max(action_scores)\n",
    "    action_scores_max_summary = tf.scalar_summary(\"action_scores max\", action_scores_max)\n",
    "    \n",
    "    predicted_actions = tf.argmax(action_scores, dimension=1, name=\"predicted_actions\")\n",
    "\n",
    "with tf.name_scope(\"Frozen\") as scope:\n",
    "    \n",
    "    TLayer1 = tf.Variable(Layer1.initialized_value(),name=\"TLayer1\")\n",
    "    TLayer2 = tf.Variable(Layer2.initialized_value(),name=\"TLayer2\")\n",
    "    TLayer3 = tf.Variable(Layer3.initialized_value(),name=\"TLayer3\")\n",
    "\n",
    "    Ty1 = tf.nn.tanh(tf.matmul(next_observation, TLayer1))\n",
    "    Ty2 = tf.nn.tanh(tf.matmul(Ty1, TLayer2))\n",
    "    Taction_scores = tf.matmul(Ty2, TLayer3)\n",
    "\n",
    "    Tpredicted_actions = tf.argmax(Taction_scores, dimension=1, name=\"predicted_actions\")"
   ]
  },
  {
   "cell_type": "code",
   "execution_count": 117,
   "metadata": {
    "collapsed": true
   },
   "outputs": [],
   "source": [
    "# Control parameters\n",
    "Cmax = 3\n",
    "C = np.linspace(-Cmax,Cmax,output_size)"
   ]
  },
  {
   "cell_type": "code",
   "execution_count": 118,
   "metadata": {
    "collapsed": true
   },
   "outputs": [],
   "source": [
    "# Training:  Placeholders\n",
    "action_mask = tf.placeholder(tf.float32, (None, output_size), name=\"action_mask\")\n",
    "rewards = tf.placeholder(tf.float32, (minibatch_size,), name=\"rewards\")\n",
    "next_observation_mask = tf.placeholder(tf.float32, (None,), name=\"next_observation_mask\")\n",
    "discount_rate = tf.to_float(tf.Variable(0.99))"
   ]
  },
  {
   "cell_type": "code",
   "execution_count": 119,
   "metadata": {
    "collapsed": false
   },
   "outputs": [],
   "source": [
    "# Training: Current\n",
    "masked_action_scores = tf.reduce_sum(action_scores * action_mask, reduction_indices=[1,])\n",
    "\n",
    "#split0, split1, split2 = tf.split(1, output_size, action_scores)\n",
    "\n",
    "#tf.gather(output_size,[[0][0]])"
   ]
  },
  {
   "cell_type": "code",
   "execution_count": 120,
   "metadata": {
    "collapsed": false
   },
   "outputs": [],
   "source": [
    "# Training: Future\n",
    "next_action_scores = tf.to_float(tf.stop_gradient(Taction_scores)) # Break tensor chain\n",
    "target_values = tf.reduce_max(next_action_scores, reduction_indices=[1,]) # Maximum predicted future reward\n",
    "future_rewards = rewards + discount_rate * target_values"
   ]
  },
  {
   "cell_type": "code",
   "execution_count": 121,
   "metadata": {
    "collapsed": true
   },
   "outputs": [],
   "source": [
    "# Target Functions\n",
    "copy_L1 = TLayer1.assign(Layer1)\n",
    "copy_L2 = TLayer2.assign(Layer2)\n",
    "copy_L3 = TLayer3.assign(Layer3)"
   ]
  },
  {
   "cell_type": "code",
   "execution_count": 122,
   "metadata": {
    "collapsed": false
   },
   "outputs": [],
   "source": [
    "# Training: Optimisation\n",
    "with tf.name_scope(\"optimize\") as scope:\n",
    "    #temp_diff = tf.clip_by_value((masked_action_scores - future_rewards), -1, 1) # Clipped to -1 and 1\n",
    "    temp_diff = (masked_action_scores - future_rewards)\n",
    "    prediction_error = tf.square(temp_diff)\n",
    "    \n",
    "    mean_prediction_error = tf.reduce_mean(prediction_error)\n",
    "    mpe = tf.scalar_summary(\"mean_prediction_error\", mean_prediction_error)\n",
    "    \n",
    "    train_op = optimizer.minimize(prediction_error)\n",
    "    \n",
    "    # Clipped gradient optimization function\n",
    "    gradients = optimizer.compute_gradients(prediction_error)\n",
    "    #for i, (grad, var) in enumerate(gradients):\n",
    "    #    if grad is not None:\n",
    "    #        gradients[i] = (grad, var)\n",
    "            #gradients[i] = (tf.clip_by_norm(grad, 5), var)\n",
    "    \n",
    "    #train_op = optimizer.apply_gradients(gradients)"
   ]
  },
  {
   "cell_type": "code",
   "execution_count": 124,
   "metadata": {
    "collapsed": true
   },
   "outputs": [],
   "source": [
    "# Writer\n",
    "merged = tf.merge_all_summaries()\n",
    "writer = tf.train.SummaryWriter(\"/Users/davidbrowne/tensorflowlogs/\", session.graph_def)"
   ]
  },
  {
   "cell_type": "code",
   "execution_count": 125,
   "metadata": {
    "collapsed": true
   },
   "outputs": [],
   "source": [
    "# Initialisation\n",
    "session.run(tf.initialize_all_variables())"
   ]
  },
  {
   "cell_type": "markdown",
   "metadata": {},
   "source": [
    "Following previous approaches to playing Atari 2600 games, we also use a simple frame-skipping technique. More precisely, the agent sees and selects actions on every kth frame instead of every frame, and its last action is repeated on skipped frames."
   ]
  },
  {
   "cell_type": "code",
   "execution_count": 126,
   "metadata": {
    "collapsed": true
   },
   "outputs": [],
   "source": [
    "time_ox = 0\n",
    "experience = deque()\n",
    "time = 0\n",
    "episodes = 0"
   ]
  },
  {
   "cell_type": "markdown",
   "metadata": {},
   "source": [
    "In practice, the behaviour distribution is often selected by an e-greedy policy that follows the greedy policy with probability 1 - e and selects a random action with probability e."
   ]
  },
  {
   "cell_type": "code",
   "execution_count": 133,
   "metadata": {
    "collapsed": false,
    "scrolled": true
   },
   "outputs": [
    {
     "ename": "KeyboardInterrupt",
     "evalue": "",
     "output_type": "error",
     "traceback": [
      "\u001b[0;31m---------------------------------------------------------------------------\u001b[0m",
      "\u001b[0;31mKeyboardInterrupt\u001b[0m                         Traceback (most recent call last)",
      "\u001b[0;32m<ipython-input-133-5ebb5c54f1fa>\u001b[0m in \u001b[0;36m<module>\u001b[0;34m()\u001b[0m\n\u001b[1;32m    113\u001b[0m         \u001b[0;31m# Training\u001b[0m\u001b[0;34m\u001b[0m\u001b[0;34m\u001b[0m\u001b[0m\n\u001b[1;32m    114\u001b[0m         \u001b[0;32mif\u001b[0m \u001b[0mlen\u001b[0m\u001b[0;34m(\u001b[0m\u001b[0mexperience\u001b[0m\u001b[0;34m)\u001b[0m \u001b[0;34m>=\u001b[0m \u001b[0mexploration_period\u001b[0m\u001b[0;34m:\u001b[0m\u001b[0;34m\u001b[0m\u001b[0m\n\u001b[0;32m--> 115\u001b[0;31m             \u001b[0msamples\u001b[0m \u001b[0;34m=\u001b[0m \u001b[0mrandom\u001b[0m\u001b[0;34m.\u001b[0m\u001b[0msample\u001b[0m\u001b[0;34m(\u001b[0m\u001b[0mrange\u001b[0m\u001b[0;34m(\u001b[0m\u001b[0mlen\u001b[0m\u001b[0;34m(\u001b[0m\u001b[0mexperience\u001b[0m\u001b[0;34m)\u001b[0m\u001b[0;34m)\u001b[0m\u001b[0;34m,\u001b[0m \u001b[0mminibatch_size\u001b[0m\u001b[0;34m)\u001b[0m\u001b[0;34m\u001b[0m\u001b[0m\n\u001b[0m\u001b[1;32m    116\u001b[0m             \u001b[0msamples\u001b[0m \u001b[0;34m=\u001b[0m \u001b[0;34m[\u001b[0m\u001b[0mexperience\u001b[0m\u001b[0;34m[\u001b[0m\u001b[0mi\u001b[0m\u001b[0;34m]\u001b[0m \u001b[0;32mfor\u001b[0m \u001b[0mi\u001b[0m \u001b[0;32min\u001b[0m \u001b[0msamples\u001b[0m\u001b[0;34m]\u001b[0m\u001b[0;34m\u001b[0m\u001b[0m\n\u001b[1;32m    117\u001b[0m \u001b[0;34m\u001b[0m\u001b[0m\n",
      "\u001b[0;31mKeyboardInterrupt\u001b[0m: "
     ]
    },
    {
     "data": {
      "image/png": "[encoded data removed]",
      "text/plain": [
       "<matplotlib.figure.Figure at 0x11097ccd0>"
      ]
     },
     "metadata": {},
     "output_type": "display_data"
    }
   ],
   "source": [
    "# More initialisation\n",
    "control = 0\n",
    "state = np.array([model_Dem, 0.0, model_Dem])\n",
    "last_observation = np.zeros(controlbatch*observation_ind)\n",
    "rstate = 0\n",
    "experiencelog = deque()\n",
    "improvement = deque()\n",
    "new_observation = state\n",
    "new_observationC = np.array([])\n",
    "mapped_action = np.floor(output_size/2)+1\n",
    "tv = []\n",
    "controls = []\n",
    "error = 0\n",
    "cheat = time_ox\n",
    "randomflag = 0\n",
    "randomcount = 0\n",
    "fig, axes = plt.subplots()\n",
    "\n",
    "mpexxx = np.array([0])\n",
    "mpexxx2 = np.array([0])\n",
    "\n",
    "# Some logging to check live action scores\n",
    "ass = np.array([])\n",
    "tass = ass\n",
    "ass2 = ass\n",
    "tass2 = ass\n",
    "\n",
    "for time_oxx in count():\n",
    "    time_ox = time_oxx + 1 + cheat\n",
    "    \n",
    "    # e-greedy control\n",
    "    if time_ox <= exploration_period:\n",
    "        exploration_p =  1#random_action_probability\n",
    "    else:\n",
    "        exploration_p = 0.05#np.max([random_action_probability-np.float((time_ox-exploration_period))/1000000, emin])\n",
    "        \n",
    "    if (time_ox % target_reset)==0:\n",
    "        # 'Deep' copy\n",
    "        #print \"Reset\"\n",
    "        #print Layer3.eval()[0]\n",
    "        #print TLayer3.eval()[0]\n",
    "        session.run(copy_L1)\n",
    "        session.run(copy_L2)\n",
    "        session.run(copy_L3)\n",
    "        #session.run(tf.initialize_variables([discount_rate]))\n",
    "        #print Layer3.eval()[0]\n",
    "        #print TLayer3.eval()[0]\n",
    "        \n",
    "    time = time + dt\n",
    "    tv.append(time)\n",
    "    \n",
    "    # Saving previous step\n",
    "    last_action = mapped_action\n",
    "    \n",
    "    ## ----------------------------------------------------------------\n",
    "    ## INTERCHANGABLE MODEL\n",
    "    ## ----------------------------------------------------------------\n",
    "    # Model & Simulation\n",
    "    dydx = np.zeros_like(state)\n",
    "    dydx[0] = state[1]\n",
    "    accel = (-model_K*state[0] - model_C*state[1]) / M1\n",
    "    dydx[1] = (accel + control) /M1\n",
    "    dydx[2] = 0\n",
    "    #dydx[3] = 0\n",
    "    target = model_Dem * signal.square(2 * np.pi * model_f * time)\n",
    "    \n",
    "    state = state + dydx * dt\n",
    "    #state[2] = accel\n",
    "    state[2] = target\n",
    "    \n",
    "    # Collecting reward\n",
    "    preverror = error\n",
    "    error = state[0]-target\n",
    "    \n",
    "    reward = 1.0/np.cosh(4*error) - 0.1 #+  np.sign(error-preverror)\n",
    "    \n",
    "    ## ----------------------------------------------------------------\n",
    "    \n",
    "    # Collecting together data for an observation\n",
    "    new_observation = state\n",
    "    \n",
    "    experiencelog.append((last_observation, last_action, reward, new_observation, target))\n",
    "    controls.append(control)\n",
    "    \n",
    "    if randomcount >= randommax:\n",
    "        randomflag = 0\n",
    "        randomcount = 0\n",
    "        \n",
    "    if (time_ox % (controlbatch))!=0:\n",
    "        new_observationC = np.append(new_observationC,new_observation)\n",
    "    else:\n",
    "        new_observationC = np.append(new_observationC,new_observation)\n",
    "        if randomflag == 0:\n",
    "            if (random.random() < exploration_p) | (len(experience)<exploration_period):\n",
    "                new_action = random.randint(0, output_size - 1)\n",
    "                randomcount = 0\n",
    "                randomflag = 1\n",
    "            else:\n",
    "                new_actions, ass, tass = session.run( # Selecting control value\n",
    "                    [predicted_actions,\n",
    "                    action_scores,\n",
    "                    Taction_scores],\n",
    "                    {observation: [new_observationC], next_observation: [new_observationC]}\n",
    "                 )\n",
    "                new_action = new_actions[0]\n",
    "        else:\n",
    "            randomcount += 1\n",
    "        \n",
    "        # Making a zero output correspond to the most zero action\n",
    "        mapped_action = (new_action + output_size/2) % output_size\n",
    "        control = C[mapped_action]\n",
    "\n",
    "        # Training\n",
    "        if len(experience) >= exploration_period:\n",
    "            samples = random.sample(range(len(experience)), minibatch_size)\n",
    "            samples = [experience[i] for i in samples]\n",
    "\n",
    "            Xobservation = np.empty((len(samples), observation_size))\n",
    "            Xnewobservation = np.empty((len(samples), observation_size))\n",
    "            Xaction_mask = np.zeros((len(samples), output_size))\n",
    "            Xrewards = np.zeros((len(samples),))\n",
    "\n",
    "            for i, (x_observation, x_action, x_reward, x_newobservation) in enumerate(samples):\n",
    "                Xobservation[i] = x_observation\n",
    "                Xaction_mask[i][x_action] = 1\n",
    "                Xrewards[i] = x_reward\n",
    "                Xnewobservation[i] = x_newobservation\n",
    "            \n",
    "            mpexxx = session.run([\n",
    "                prediction_error,\n",
    "            ], { \n",
    "                observation: Xobservation,\n",
    "                next_observation: Xnewobservation,\n",
    "                action_mask: Xaction_mask,\n",
    "                rewards: Xrewards,\n",
    "            })\n",
    "            \n",
    "            _, summary, ascores = session.run([\n",
    "                train_op,\n",
    "                merged,\n",
    "                action_scores,\n",
    "            ], { \n",
    "                observation: Xobservation,\n",
    "                next_observation: Xnewobservation,\n",
    "                action_mask: Xaction_mask,\n",
    "                rewards: Xrewards,\n",
    "            })\n",
    "            \n",
    "            mpexxx2 = session.run([\n",
    "                prediction_error,\n",
    "            ], { \n",
    "                observation: Xobservation,\n",
    "                next_observation: Xnewobservation,\n",
    "                action_mask: Xaction_mask,\n",
    "                rewards: Xrewards,\n",
    "            })\n",
    "            \n",
    "            improvement.append((np.sum(mpexxx2[0] - mpexxx[0])))\n",
    "            # Add to tensorboard\n",
    "            writer.add_summary(summary, time_oxx)\n",
    "    \n",
    "            # Hunting down NaNs\n",
    "            temp = Layer3.eval()\n",
    "            if np.isnan(temp).any():\n",
    "                print np.isnan(Xobservation)\n",
    "                print np.isnan(Xnewobservation)\n",
    "                print np.isnan(Xaction_mask)\n",
    "                print np.isnan(Xrewards)\n",
    "                break            \n",
    "        \n",
    "        # Collecting experience\n",
    "        experience.append((last_observation, last_action, reward, new_observationC)) # Switched to last action for a logical set of data\n",
    "            \n",
    "        if len(experience) > max_experience:\n",
    "            experience.popleft()\n",
    "        \n",
    "        # Re-freshing        \n",
    "        last_observation = new_observationC # Reset last observation now that it has been added to experience\n",
    "        new_observationC = np.array([])\n",
    "        \n",
    "    # End of optimization\n",
    "    if episodes == episode_max:\n",
    "        break\n",
    "            \n",
    "    if time > tepisode_max:\n",
    "        \n",
    "        # Plotting every X episodes\n",
    "        \n",
    "        states = [row[3] for row in experiencelog]\n",
    "        tgt = [row[4] for row in experiencelog]\n",
    "        x = [row[0] for row in states]\n",
    "        v = [row[1] for row in states]\n",
    "        rew = [row[2] for row in experiencelog]\n",
    "        rewardsTotal = sum([row[2] for row in experiencelog])\n",
    "        improvements = [row for row in improvement]\n",
    "        if (episodes % plot_every) == 0:\n",
    "            print discount_rate.eval(), episodes, rewardsTotal, exploration_p, np.mean(x)\n",
    "            print np.concatenate((ass, tass), axis=0)\n",
    "            #print np.concatenate((ass, ass2), axis=0)\n",
    "            #print np.concatenate((tass, tass2), axis=0)\n",
    "            print mpexxx2[0] - mpexxx[0]        \n",
    "            #print Layer3.eval()[0] - TLayer3.eval()[0]\n",
    "            \n",
    "            plt.clf()\n",
    "            \n",
    "            ax1 = plt.subplot(2, 1, 1)\n",
    "            ax1.plot(tv,controls)\n",
    "            ax1.plot(tv, x)\n",
    "            ax1.plot(tv, v)\n",
    "            ax1.plot(tv,tgt)\n",
    "            ax1.plot(tv,rew)\n",
    "            \n",
    "            ax2 = plt.subplot(2, 1, 2)\n",
    "            ax2.plot(improvements)\n",
    "            \n",
    "            display.display(plt.gcf())\n",
    "            display.clear_output(wait=True)\n",
    "            timelib.sleep(0.1)\n",
    "            \n",
    "        # Resetting for next episode\n",
    "        #state = np.array([model_Dem, 0.0, model_Dem])\n",
    "        #new_action = np.floor(output_size/2)+1\n",
    "        #new_observation = state\n",
    "        controls = []\n",
    "        time = 0\n",
    "        tv = []\n",
    "        episodes = episodes + 1\n",
    "        experiencelog = deque()\n",
    "        improvement = deque()"
   ]
  },
  {
   "cell_type": "code",
   "execution_count": 130,
   "metadata": {
    "collapsed": false
   },
   "outputs": [
    {
     "name": "stdout",
     "output_type": "stream",
     "text": [
      "Model saved in file: /Users/davidbrowne/TensorFlowReinforcementLearning/Models/SquareWaveDemandSpringMassDamper4.ckpt\n"
     ]
    }
   ],
   "source": [
    "saver = tf.train.Saver()\n",
    "save_path = os.path.join(startPath,'Models','SquareWaveDemandSpringMassDamper4.ckpt')\n",
    "saver.save(session, save_path)\n",
    "print(\"Model saved in file: %s\" % save_path)"
   ]
  },
  {
   "cell_type": "code",
   "execution_count": null,
   "metadata": {
    "collapsed": false
   },
   "outputs": [],
   "source": [
    "temp1, temp2, temp3 = session.run([masked_action_scores, future_rewards, gradients], { \n",
    "                observation: Xobservation,\n",
    "                next_observation: Xnewobservation,\n",
    "                action_mask: Xaction_mask,\n",
    "                rewards: Xrewards,\n",
    "            })\n",
    "\n",
    "print temp1\n",
    "print temp2"
   ]
  },
  {
   "cell_type": "code",
   "execution_count": null,
   "metadata": {
    "collapsed": false
   },
   "outputs": [],
   "source": [
    "Xrewards"
   ]
  },
  {
   "cell_type": "code",
   "execution_count": null,
   "metadata": {
    "collapsed": true
   },
   "outputs": [],
   "source": [
    "episodes = 0"
   ]
  },
  {
   "cell_type": "code",
   "execution_count": null,
   "metadata": {
    "collapsed": false
   },
   "outputs": [],
   "source": [
    "[row for row in improvement]"
   ]
  }
 ],
 "metadata": {
  "celltoolbar": "Raw Cell Format",
  "kernelspec": {
   "display_name": "Python 2",
   "language": "python",
   "name": "python2"
  },
  "language_info": {
   "codemirror_mode": {
    "name": "ipython",
    "version": 2
   },
   "file_extension": ".py",
   "mimetype": "text/x-python",
   "name": "python",
   "nbconvert_exporter": "python",
   "pygments_lexer": "ipython2",
   "version": "2.7.10"
  }
 },
 "nbformat": 4,
 "nbformat_minor": 0
}
